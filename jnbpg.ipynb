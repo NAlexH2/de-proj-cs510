{
 "cells": [
  {
   "cell_type": "code",
   "execution_count": 1,
   "metadata": {},
   "outputs": [],
   "source": [
    "from src.subpipe.validate import ValidateBusData\n",
    "import logging, os, sys, json\n",
    "import pandas as pd\n",
    "\n",
    "from src.utils.utils import (\n",
    "    DATA_MONTH_DAY,\n",
    "    SUBSCRIBER_DATA_PATH_JSON,\n",
    "    SUBSCRIBER_FOLDER,\n",
    "    curr_time_micro,\n",
    "    sub_logger,\n",
    ")\n",
    "\n",
    "logging.basicConfig(\n",
    "        format=\"\",\n",
    "        filename=f\"logs/notebook-{DATA_MONTH_DAY}.log\",\n",
    "        encoding=\"utf-8\",\n",
    "        filemode=\"a\",\n",
    "        level=logging.INFO,\n",
    ")"
   ]
  },
  {
   "cell_type": "code",
   "execution_count": 2,
   "metadata": {},
   "outputs": [],
   "source": [
    "df = pd.read_json(os.path.join(SUBSCRIBER_FOLDER, \"04-12.json\"))\n",
    "df = df.sort_values([\"VEHICLE_ID\", \"ACT_TIME\"], ascending=True)"
   ]
  },
  {
   "cell_type": "code",
   "execution_count": 3,
   "metadata": {},
   "outputs": [
    {
     "name": "stdout",
     "output_type": "stream",
     "text": [
      "[05-07-2024-16:52:56.405] GOOD! Longitude sits within -122 and -124! Min and max vals are: -123.115868, -122.372643.\n"
     ]
    }
   ],
   "source": [
    "longitude_lowest_min = df['GPS_LONGITUDE'].min(axis=0) \n",
    "longitude_highest_max = df['GPS_LONGITUDE'].max(axis=0) \n",
    "longitude_low_bool = longitude_lowest_min > -124 # -124 or more\n",
    "longitude_high_bool = longitude_highest_max < -122  # -122 or less\n",
    "try:\n",
    "    result = (longitude_low_bool) & (longitude_high_bool)\n",
    "    assert result.all() == True\n",
    "except:\n",
    "    sub_logger(\n",
    "        f\"{curr_time_micro()} BAD!!!!! Longitude had the following min and max values: \"\n",
    "        + f\"{longitude_lowest_min}, {longitude_highest_max}.\"\n",
    "    )\n",
    "else:\n",
    "    sub_logger(\n",
    "        f\"{curr_time_micro()} GOOD! Longitude sits within -122 and -124! Min and max vals are: \"\n",
    "        + f\"{longitude_lowest_min}, {longitude_highest_max}.\"\n",
    "    )"
   ]
  },
  {
   "cell_type": "code",
   "execution_count": null,
   "metadata": {},
   "outputs": [],
   "source": []
  }
 ],
 "metadata": {
  "kernelspec": {
   "display_name": "Python 3",
   "language": "python",
   "name": "python3"
  },
  "language_info": {
   "codemirror_mode": {
    "name": "ipython",
    "version": 3
   },
   "file_extension": ".py",
   "mimetype": "text/x-python",
   "name": "python",
   "nbconvert_exporter": "python",
   "pygments_lexer": "ipython3",
   "version": "3.10.12"
  }
 },
 "nbformat": 4,
 "nbformat_minor": 2
}
