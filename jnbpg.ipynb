{
 "cells": [
  {
   "cell_type": "code",
   "execution_count": 2,
   "metadata": {},
   "outputs": [],
   "source": [
    "from src.subpipe.validate import ValidateBusData\n",
    "import logging, os, sys, json\n",
    "import pandas as pd\n",
    "\n",
    "from src.utils.utils import (\n",
    "    DATA_MONTH_DAY,\n",
    "    SUBSCRIBER_DATA_PATH_JSON,\n",
    "    SUBSCRIBER_FOLDER,\n",
    "    curr_time_micro,\n",
    "    sub_logger,\n",
    "    lat_long_filler,\n",
    ")\n",
    "\n",
    "logging.basicConfig(\n",
    "        format=\"\",\n",
    "        filename=f\"logs/notebook-{DATA_MONTH_DAY}.log\",\n",
    "        encoding=\"utf-8\",\n",
    "        filemode=\"a\",\n",
    "        level=logging.INFO,\n",
    ")"
   ]
  },
  {
   "cell_type": "code",
   "execution_count": 3,
   "metadata": {},
   "outputs": [],
   "source": [
    "df = pd.read_json(os.path.join(SUBSCRIBER_FOLDER, \"04-12.json\"))\n",
    "df = df.sort_values([\"VEHICLE_ID\", \"ACT_TIME\"], ascending=True)"
   ]
  },
  {
   "cell_type": "code",
   "execution_count": 4,
   "metadata": {},
   "outputs": [
    {
     "name": "stdout",
     "output_type": "stream",
     "text": [
      "[05-07-2024-21:00:45.072] LONGITUDE GOOD! Longitude sits within -122 and -124! Min and max vals are: -123.115868, -122.372643.\n"
     ]
    }
   ],
   "source": [
    "latitude_lowest_min = df['GPS_LONGITUDE'].min(axis=0) \n",
    "latitude_highest_max = df['GPS_LONGITUDE'].max(axis=0) \n",
    "latitude_low_bool = latitude_lowest_min > -124 # -124 or more\n",
    "latitude_high_bool = latitude_highest_max <= -122  # -122 or less\n",
    "try:\n",
    "    result = (latitude_low_bool) & (latitude_high_bool)\n",
    "    assert result.all() == True\n",
    "except:\n",
    "    sub_logger(\n",
    "        f\"{curr_time_micro()} LONGITUDE BAD!!!!! Longitude had the following min and max values: \"\n",
    "        + f\"{latitude_lowest_min}, {latitude_highest_max}.\"\n",
    "    )\n",
    "else:\n",
    "    sub_logger(\n",
    "        f\"{curr_time_micro()} LONGITUDE GOOD! Longitude sits within -122 and -124! Min and max vals are: \"\n",
    "        + f\"{latitude_lowest_min}, {latitude_highest_max}.\"\n",
    "    )"
   ]
  },
  {
   "cell_type": "code",
   "execution_count": 5,
   "metadata": {},
   "outputs": [
    {
     "name": "stdout",
     "output_type": "stream",
     "text": [
      "[05-07-2024-21:00:45.082] LATITUDE GOOD! Latitude sits within 45 and 46! Min and max vals are: 45.318728, 45.639137.\n"
     ]
    }
   ],
   "source": [
    "latitude_lowest_min = df['GPS_LATITUDE'].min(axis=0) \n",
    "latitude_highest_max = df['GPS_LATITUDE'].max(axis=0) \n",
    "latitude_low_bool = latitude_lowest_min >= 45 # -124 or more\n",
    "latitude_high_bool = latitude_highest_max < 46  # -122 or less\n",
    "try:\n",
    "    result = (latitude_low_bool) & (latitude_high_bool)\n",
    "    assert result.all() == True\n",
    "except:\n",
    "    sub_logger(\n",
    "        f\"{curr_time_micro()} LATITUDE BAD!!!!! Latitude had the following min and max values: \"\n",
    "        + f\"{latitude_lowest_min}, {latitude_highest_max}.\"\n",
    "    )\n",
    "else:\n",
    "    sub_logger(\n",
    "        f\"{curr_time_micro()} LATITUDE GOOD! Latitude sits within 45 and 46! Min and max vals are: \"\n",
    "        + f\"{latitude_lowest_min}, {latitude_highest_max}.\"\n",
    "    )"
   ]
  },
  {
   "cell_type": "code",
   "execution_count": 6,
   "metadata": {},
   "outputs": [
    {
     "name": "stdout",
     "output_type": "stream",
     "text": [
      "[05-07-2024-21:00:45.095] HDOP GOOD! All HDOP values 4 upto (not including) 23.1 are NaN on lat and long: .\n"
     ]
    }
   ],
   "source": [
    "gathered_HDOPs = df[(df['GPS_HDOP'] >= 4) & (df['GPS_HDOP'] < 23.1)]\n",
    "these_HDOPs_nan = ((gathered_HDOPs['GPS_LONGITUDE'].isna()) \n",
    "                   & (gathered_HDOPs['GPS_LATITUDE'].isna()))\n",
    "try:\n",
    "    assert these_HDOPs_nan.all() == True\n",
    "except:\n",
    "    sub_logger(\n",
    "        f\"{curr_time_micro()} HDOP BAD!!!!! There were some HDOPs with non-nan values on lat and long: \"\n",
    "        + f\"\\n{df[(gathered_HDOPs.notna())]}\"\n",
    "    )\n",
    "else:\n",
    "    sub_logger(\n",
    "        f\"{curr_time_micro()} HDOP GOOD! All HDOP values 4 upto (not including) 23.1 are NaN on lat and long: \"\n",
    "        + f\".\"\n",
    "    )"
   ]
  },
  {
   "cell_type": "code",
   "execution_count": 7,
   "metadata": {},
   "outputs": [
    {
     "name": "stdout",
     "output_type": "stream",
     "text": [
      "[05-07-2024-21:00:45.105] GPS Min Sats GOOD! Minimum number of satellites was 0!\n"
     ]
    }
   ],
   "source": [
    "sat_min = df['GPS_SATELLITES'].min()\n",
    "try:\n",
    "    assert sat_min == 0\n",
    "except:\n",
    "    sub_logger(\n",
    "        f\"{curr_time_micro()} GPS Min Sats BAD!!!!! The minimum number of satellites were: \"\n",
    "        + f\"\\n{sat_min}\"\n",
    "    )\n",
    "else:\n",
    "    sub_logger(\n",
    "        f\"{curr_time_micro()} GPS Min Sats GOOD! Minimum number of satellites was {sat_min}!\"\n",
    "    )"
   ]
  },
  {
   "cell_type": "code",
   "execution_count": 8,
   "metadata": {},
   "outputs": [
    {
     "name": "stdout",
     "output_type": "stream",
     "text": [
      "[05-07-2024-21:00:45.114] GPS Max Sats GOOD! Minimum number of satellites was 12!\n"
     ]
    }
   ],
   "source": [
    "sat_max = df['GPS_SATELLITES'].max()\n",
    "try:\n",
    "    assert sat_max == 12\n",
    "except:\n",
    "    sub_logger(\n",
    "        f\"{curr_time_micro()} GPS Max Sats BAD!!!!! The minimum number of satellites were: \"\n",
    "        + f\"\\n{sat_max}\"\n",
    "    )\n",
    "else:\n",
    "    sub_logger(\n",
    "        f\"{curr_time_micro()} GPS Max Sats GOOD! Minimum number of satellites was {sat_max}!\"\n",
    "    )"
   ]
  },
  {
   "cell_type": "code",
   "execution_count": 9,
   "metadata": {},
   "outputs": [
    {
     "name": "stdout",
     "output_type": "stream",
     "text": [
      "[05-07-2024-21:00:45.124] ZERO SATELLITES ASSERT GOOD! It seems that SOME 0 GPS satellite vehicles HAVE a lat and long\n"
     ]
    }
   ],
   "source": [
    "nine_or_more_sats = df[df['GPS_SATELLITES'] == 0]\n",
    "not_all_nan_lat = nine_or_more_sats[nine_or_more_sats['GPS_LATITUDE'].notna()]\n",
    "not_all_nan_long = nine_or_more_sats[nine_or_more_sats['GPS_LONGITUDE'].notna()]\n",
    "try:\n",
    "    assert not_all_nan_lat['GPS_LATITUDE'].notna().any() == True\n",
    "    assert not_all_nan_long['GPS_LONGITUDE'].notna().any() == True  \n",
    "except:\n",
    "    sub_logger(\n",
    "        f\"{curr_time_micro()} ZERO SATELLITES ASSERT BAD!!!! It seems that all \"\n",
    "        + f\"0 GPS satellite vehicles are missing lat and long\"\n",
    "    )\n",
    "else:\n",
    "    sub_logger(\n",
    "        f\"{curr_time_micro()} ZERO SATELLITES ASSERT GOOD! It seems that SOME \"\n",
    "        + f\"0 GPS satellite vehicles HAVE a lat and long\"\n",
    "    )"
   ]
  },
  {
   "cell_type": "code",
   "execution_count": 10,
   "metadata": {},
   "outputs": [
    {
     "name": "stdout",
     "output_type": "stream",
     "text": [
      "[05-07-2024-21:00:45.152] TWELVE SATELLITES ASSERT GOOD! It seems that ALL 12 GPS satellite vehicles HAVE a lat and long\n"
     ]
    }
   ],
   "source": [
    "nine_or_more_sats = df[df['GPS_SATELLITES'] == 12]\n",
    "all_yes_lat = nine_or_more_sats[nine_or_more_sats['GPS_LATITUDE'].notna()]\n",
    "all_yes_long = nine_or_more_sats[nine_or_more_sats['GPS_LONGITUDE'].notna()]\n",
    "try:\n",
    "    assert all_yes_lat['GPS_LATITUDE'].notna().all() == True\n",
    "    assert all_yes_long['GPS_LONGITUDE'].notna().all() == True  \n",
    "except:\n",
    "    sub_logger(\n",
    "        f\"{curr_time_micro()} TWELVE SATELLITES ASSERT BAD!!!! It seems that some \"\n",
    "        + f\"12 GPS satellite vehicles are missing lat and long\"\n",
    "    )\n",
    "else:\n",
    "    sub_logger(\n",
    "        f\"{curr_time_micro()} TWELVE SATELLITES ASSERT GOOD! It seems that ALL \"\n",
    "        + f\"12 GPS satellite vehicles HAVE a lat and long\"\n",
    "    )"
   ]
  },
  {
   "cell_type": "code",
   "execution_count": 11,
   "metadata": {},
   "outputs": [
    {
     "name": "stdout",
     "output_type": "stream",
     "text": [
      "False\n"
     ]
    }
   ],
   "source": [
    "print(df['ACT_TIME'].isna().all())"
   ]
  },
  {
   "cell_type": "code",
   "execution_count": 12,
   "metadata": {},
   "outputs": [
    {
     "name": "stdout",
     "output_type": "stream",
     "text": [
      "[05-07-2024-21:00:45.164] ACTIVITY RECORD ASSERT GOOD! It seems that ALL records HAVE an event activity time.\n"
     ]
    }
   ],
   "source": [
    "meters_bool = df['ACT_TIME'].isna().all() == False\n",
    "try:\n",
    "    assert meters_bool == True\n",
    "except:\n",
    "    sub_logger(\n",
    "        f\"{curr_time_micro()} ACTIVITY RECORD ASSERT BAD!!!! It seems that some \"\n",
    "        + f\"records are missing an event activity time.\"\n",
    "    )\n",
    "else:\n",
    "    sub_logger(\n",
    "        f\"{curr_time_micro()} ACTIVITY RECORD ASSERT GOOD! It seems that ALL \"\n",
    "        + f\"records HAVE an event activity time.\"\n",
    "    )"
   ]
  },
  {
   "cell_type": "code",
   "execution_count": 13,
   "metadata": {},
   "outputs": [
    {
     "name": "stdout",
     "output_type": "stream",
     "text": [
      "[05-07-2024-21:00:45.174] METERS RECORD ASSERT GOOD! It seems that ALL records HAVE an a meters metric.\n"
     ]
    }
   ],
   "source": [
    "meters_bool = df['METERS'].isna().all() == False\n",
    "try:\n",
    "    assert meters_bool == True\n",
    "except:\n",
    "    sub_logger(\n",
    "        f\"{curr_time_micro()} METERS RECORD ASSERT BAD!!!! It seems that some \"\n",
    "        + f\"records are missing an a meters metric.\"\n",
    "    )\n",
    "else:\n",
    "    sub_logger(\n",
    "        f\"{curr_time_micro()} METERS RECORD ASSERT GOOD! It seems that ALL \"\n",
    "        + f\"records HAVE an a meters metric.\"\n",
    "    )"
   ]
  },
  {
   "cell_type": "code",
   "execution_count": 14,
   "metadata": {},
   "outputs": [
    {
     "data": {
      "text/html": [
       "<div>\n",
       "<style scoped>\n",
       "    .dataframe tbody tr th:only-of-type {\n",
       "        vertical-align: middle;\n",
       "    }\n",
       "\n",
       "    .dataframe tbody tr th {\n",
       "        vertical-align: top;\n",
       "    }\n",
       "\n",
       "    .dataframe thead th {\n",
       "        text-align: right;\n",
       "    }\n",
       "</style>\n",
       "<table border=\"1\" class=\"dataframe\">\n",
       "  <thead>\n",
       "    <tr style=\"text-align: right;\">\n",
       "      <th></th>\n",
       "      <th>EVENT_NO_TRIP</th>\n",
       "      <th>EVENT_NO_STOP</th>\n",
       "      <th>OPD_DATE</th>\n",
       "      <th>VEHICLE_ID</th>\n",
       "      <th>METERS</th>\n",
       "      <th>TIMESTAMP</th>\n",
       "      <th>ACT_TIME</th>\n",
       "      <th>GPS_LONGITUDE</th>\n",
       "      <th>GPS_LATITUDE</th>\n",
       "      <th>GPS_SATELLITES</th>\n",
       "      <th>GPS_HDOP</th>\n",
       "    </tr>\n",
       "  </thead>\n",
       "  <tbody>\n",
       "    <tr>\n",
       "      <th>237139</th>\n",
       "      <td>219000623</td>\n",
       "      <td>219000624</td>\n",
       "      <td>13DEC2022:00:00:00</td>\n",
       "      <td>2905</td>\n",
       "      <td>37</td>\n",
       "      <td>0</td>\n",
       "      <td>22680</td>\n",
       "      <td>-122.843617</td>\n",
       "      <td>45.504060</td>\n",
       "      <td>12</td>\n",
       "      <td>0.8</td>\n",
       "    </tr>\n",
       "    <tr>\n",
       "      <th>237138</th>\n",
       "      <td>219000623</td>\n",
       "      <td>219000624</td>\n",
       "      <td>13DEC2022:00:00:00</td>\n",
       "      <td>2905</td>\n",
       "      <td>47</td>\n",
       "      <td>0</td>\n",
       "      <td>22685</td>\n",
       "      <td>-122.843743</td>\n",
       "      <td>45.504095</td>\n",
       "      <td>12</td>\n",
       "      <td>0.8</td>\n",
       "    </tr>\n",
       "    <tr>\n",
       "      <th>237137</th>\n",
       "      <td>219000623</td>\n",
       "      <td>219000624</td>\n",
       "      <td>13DEC2022:00:00:00</td>\n",
       "      <td>2905</td>\n",
       "      <td>54</td>\n",
       "      <td>0</td>\n",
       "      <td>22690</td>\n",
       "      <td>-122.843828</td>\n",
       "      <td>45.504118</td>\n",
       "      <td>12</td>\n",
       "      <td>0.8</td>\n",
       "    </tr>\n",
       "    <tr>\n",
       "      <th>237136</th>\n",
       "      <td>219000623</td>\n",
       "      <td>219000626</td>\n",
       "      <td>13DEC2022:00:00:00</td>\n",
       "      <td>2905</td>\n",
       "      <td>181</td>\n",
       "      <td>0</td>\n",
       "      <td>22740</td>\n",
       "      <td>-122.843408</td>\n",
       "      <td>45.505170</td>\n",
       "      <td>12</td>\n",
       "      <td>0.8</td>\n",
       "    </tr>\n",
       "    <tr>\n",
       "      <th>237135</th>\n",
       "      <td>219000623</td>\n",
       "      <td>219000626</td>\n",
       "      <td>13DEC2022:00:00:00</td>\n",
       "      <td>2905</td>\n",
       "      <td>196</td>\n",
       "      <td>0</td>\n",
       "      <td>22745</td>\n",
       "      <td>-122.843285</td>\n",
       "      <td>45.505283</td>\n",
       "      <td>11</td>\n",
       "      <td>0.9</td>\n",
       "    </tr>\n",
       "  </tbody>\n",
       "</table>\n",
       "</div>"
      ],
      "text/plain": [
       "        EVENT_NO_TRIP  EVENT_NO_STOP            OPD_DATE  VEHICLE_ID  METERS  \\\n",
       "237139      219000623      219000624  13DEC2022:00:00:00        2905      37   \n",
       "237138      219000623      219000624  13DEC2022:00:00:00        2905      47   \n",
       "237137      219000623      219000624  13DEC2022:00:00:00        2905      54   \n",
       "237136      219000623      219000626  13DEC2022:00:00:00        2905     181   \n",
       "237135      219000623      219000626  13DEC2022:00:00:00        2905     196   \n",
       "\n",
       "        TIMESTAMP  ACT_TIME  GPS_LONGITUDE  GPS_LATITUDE  GPS_SATELLITES  \\\n",
       "237139          0     22680    -122.843617     45.504060              12   \n",
       "237138          0     22685    -122.843743     45.504095              12   \n",
       "237137          0     22690    -122.843828     45.504118              12   \n",
       "237136          0     22740    -122.843408     45.505170              12   \n",
       "237135          0     22745    -122.843285     45.505283              11   \n",
       "\n",
       "        GPS_HDOP  \n",
       "237139       0.8  \n",
       "237138       0.8  \n",
       "237137       0.8  \n",
       "237136       0.8  \n",
       "237135       0.9  "
      ]
     },
     "execution_count": 14,
     "metadata": {},
     "output_type": "execute_result"
    }
   ],
   "source": [
    "df.insert(5, 'TIMESTAMP', 0)\n",
    "df.head()"
   ]
  },
  {
   "cell_type": "code",
   "execution_count": 15,
   "metadata": {},
   "outputs": [],
   "source": [
    "date_format = \"%d%b%Y:%H:%M:%S\"\n",
    "opd_sec: pd.Timestamp = pd.to_datetime(pd.to_datetime(df['OPD_DATE'], format=date_format), unit='s')\n",
    "td: pd.Timedelta = pd.to_timedelta(df['ACT_TIME'], unit='sec')\n",
    "\n",
    "df['TIMESTAMP'] = opd_sec + td"
   ]
  },
  {
   "cell_type": "code",
   "execution_count": 16,
   "metadata": {},
   "outputs": [
    {
     "data": {
      "text/html": [
       "<div>\n",
       "<style scoped>\n",
       "    .dataframe tbody tr th:only-of-type {\n",
       "        vertical-align: middle;\n",
       "    }\n",
       "\n",
       "    .dataframe tbody tr th {\n",
       "        vertical-align: top;\n",
       "    }\n",
       "\n",
       "    .dataframe thead th {\n",
       "        text-align: right;\n",
       "    }\n",
       "</style>\n",
       "<table border=\"1\" class=\"dataframe\">\n",
       "  <thead>\n",
       "    <tr style=\"text-align: right;\">\n",
       "      <th></th>\n",
       "      <th>EVENT_NO_TRIP</th>\n",
       "      <th>EVENT_NO_STOP</th>\n",
       "      <th>OPD_DATE</th>\n",
       "      <th>VEHICLE_ID</th>\n",
       "      <th>METERS</th>\n",
       "      <th>TIMESTAMP</th>\n",
       "      <th>ACT_TIME</th>\n",
       "      <th>GPS_LONGITUDE</th>\n",
       "      <th>GPS_LATITUDE</th>\n",
       "      <th>GPS_SATELLITES</th>\n",
       "      <th>GPS_HDOP</th>\n",
       "    </tr>\n",
       "  </thead>\n",
       "  <tbody>\n",
       "    <tr>\n",
       "      <th>237139</th>\n",
       "      <td>219000623</td>\n",
       "      <td>219000624</td>\n",
       "      <td>13DEC2022:00:00:00</td>\n",
       "      <td>2905</td>\n",
       "      <td>37</td>\n",
       "      <td>2022-12-13 06:18:00</td>\n",
       "      <td>22680</td>\n",
       "      <td>-122.843617</td>\n",
       "      <td>45.504060</td>\n",
       "      <td>12</td>\n",
       "      <td>0.8</td>\n",
       "    </tr>\n",
       "    <tr>\n",
       "      <th>237138</th>\n",
       "      <td>219000623</td>\n",
       "      <td>219000624</td>\n",
       "      <td>13DEC2022:00:00:00</td>\n",
       "      <td>2905</td>\n",
       "      <td>47</td>\n",
       "      <td>2022-12-13 06:18:05</td>\n",
       "      <td>22685</td>\n",
       "      <td>-122.843743</td>\n",
       "      <td>45.504095</td>\n",
       "      <td>12</td>\n",
       "      <td>0.8</td>\n",
       "    </tr>\n",
       "    <tr>\n",
       "      <th>237137</th>\n",
       "      <td>219000623</td>\n",
       "      <td>219000624</td>\n",
       "      <td>13DEC2022:00:00:00</td>\n",
       "      <td>2905</td>\n",
       "      <td>54</td>\n",
       "      <td>2022-12-13 06:18:10</td>\n",
       "      <td>22690</td>\n",
       "      <td>-122.843828</td>\n",
       "      <td>45.504118</td>\n",
       "      <td>12</td>\n",
       "      <td>0.8</td>\n",
       "    </tr>\n",
       "    <tr>\n",
       "      <th>237136</th>\n",
       "      <td>219000623</td>\n",
       "      <td>219000626</td>\n",
       "      <td>13DEC2022:00:00:00</td>\n",
       "      <td>2905</td>\n",
       "      <td>181</td>\n",
       "      <td>2022-12-13 06:19:00</td>\n",
       "      <td>22740</td>\n",
       "      <td>-122.843408</td>\n",
       "      <td>45.505170</td>\n",
       "      <td>12</td>\n",
       "      <td>0.8</td>\n",
       "    </tr>\n",
       "    <tr>\n",
       "      <th>237135</th>\n",
       "      <td>219000623</td>\n",
       "      <td>219000626</td>\n",
       "      <td>13DEC2022:00:00:00</td>\n",
       "      <td>2905</td>\n",
       "      <td>196</td>\n",
       "      <td>2022-12-13 06:19:05</td>\n",
       "      <td>22745</td>\n",
       "      <td>-122.843285</td>\n",
       "      <td>45.505283</td>\n",
       "      <td>11</td>\n",
       "      <td>0.9</td>\n",
       "    </tr>\n",
       "  </tbody>\n",
       "</table>\n",
       "</div>"
      ],
      "text/plain": [
       "        EVENT_NO_TRIP  EVENT_NO_STOP            OPD_DATE  VEHICLE_ID  METERS  \\\n",
       "237139      219000623      219000624  13DEC2022:00:00:00        2905      37   \n",
       "237138      219000623      219000624  13DEC2022:00:00:00        2905      47   \n",
       "237137      219000623      219000624  13DEC2022:00:00:00        2905      54   \n",
       "237136      219000623      219000626  13DEC2022:00:00:00        2905     181   \n",
       "237135      219000623      219000626  13DEC2022:00:00:00        2905     196   \n",
       "\n",
       "                 TIMESTAMP  ACT_TIME  GPS_LONGITUDE  GPS_LATITUDE  \\\n",
       "237139 2022-12-13 06:18:00     22680    -122.843617     45.504060   \n",
       "237138 2022-12-13 06:18:05     22685    -122.843743     45.504095   \n",
       "237137 2022-12-13 06:18:10     22690    -122.843828     45.504118   \n",
       "237136 2022-12-13 06:19:00     22740    -122.843408     45.505170   \n",
       "237135 2022-12-13 06:19:05     22745    -122.843285     45.505283   \n",
       "\n",
       "        GPS_SATELLITES  GPS_HDOP  \n",
       "237139              12       0.8  \n",
       "237138              12       0.8  \n",
       "237137              12       0.8  \n",
       "237136              12       0.8  \n",
       "237135              11       0.9  "
      ]
     },
     "execution_count": 16,
     "metadata": {},
     "output_type": "execute_result"
    }
   ],
   "source": [
    "df.head()"
   ]
  },
  {
   "cell_type": "code",
   "execution_count": 17,
   "metadata": {},
   "outputs": [],
   "source": [
    "def fill_lat_long(row):\n",
    "    if pd.isna(row['GPS_LATITUDE']) or pd.isna(row['GPS_LONGITUDE']):\n",
    "        prev_lat = df.at[row.name - 1, 'GPS_LATITUDE']\n",
    "        prev_long = df.at[row.name - 1, 'GPS_LONGITUDE']\n",
    "        a_distance = df.at[row.name - 1, 'METERS']\n",
    "        b_distance = row['METERS']\n",
    "        \n",
    "        filled_lat, filled_long = lat_long_filler((prev_lat, prev_long), a_distance, b_distance)\n",
    "        return pd.Series({'GPS_LATITUDE': filled_lat, 'GPS_LONGITUDE': filled_long})\n",
    "    else:\n",
    "        return row[['GPS_LATITUDE', 'GPS_LONGITUDE']]"
   ]
  },
  {
   "cell_type": "code",
   "execution_count": 21,
   "metadata": {},
   "outputs": [],
   "source": [
    "while (df['GPS_LONGITUDE'].isna().any() == True) or (df['GPS_LATITUDE'].isna().any() == True):\n",
    "    df[['GPS_LATITUDE', 'GPS_LONGITUDE']] = df.apply(fill_lat_long, axis=1)"
   ]
  },
  {
   "cell_type": "code",
   "execution_count": 19,
   "metadata": {},
   "outputs": [
    {
     "data": {
      "text/html": [
       "<div>\n",
       "<style scoped>\n",
       "    .dataframe tbody tr th:only-of-type {\n",
       "        vertical-align: middle;\n",
       "    }\n",
       "\n",
       "    .dataframe tbody tr th {\n",
       "        vertical-align: top;\n",
       "    }\n",
       "\n",
       "    .dataframe thead th {\n",
       "        text-align: right;\n",
       "    }\n",
       "</style>\n",
       "<table border=\"1\" class=\"dataframe\">\n",
       "  <thead>\n",
       "    <tr style=\"text-align: right;\">\n",
       "      <th></th>\n",
       "      <th>EVENT_NO_TRIP</th>\n",
       "      <th>EVENT_NO_STOP</th>\n",
       "      <th>OPD_DATE</th>\n",
       "      <th>VEHICLE_ID</th>\n",
       "      <th>METERS</th>\n",
       "      <th>TIMESTAMP</th>\n",
       "      <th>ACT_TIME</th>\n",
       "      <th>GPS_LONGITUDE</th>\n",
       "      <th>GPS_LATITUDE</th>\n",
       "      <th>GPS_SATELLITES</th>\n",
       "      <th>GPS_HDOP</th>\n",
       "    </tr>\n",
       "  </thead>\n",
       "  <tbody>\n",
       "    <tr>\n",
       "      <th>237139</th>\n",
       "      <td>219000623</td>\n",
       "      <td>219000624</td>\n",
       "      <td>13DEC2022:00:00:00</td>\n",
       "      <td>2905</td>\n",
       "      <td>37</td>\n",
       "      <td>2022-12-13 06:18:00</td>\n",
       "      <td>22680</td>\n",
       "      <td>-122.843617</td>\n",
       "      <td>45.504060</td>\n",
       "      <td>12</td>\n",
       "      <td>0.8</td>\n",
       "    </tr>\n",
       "    <tr>\n",
       "      <th>237138</th>\n",
       "      <td>219000623</td>\n",
       "      <td>219000624</td>\n",
       "      <td>13DEC2022:00:00:00</td>\n",
       "      <td>2905</td>\n",
       "      <td>47</td>\n",
       "      <td>2022-12-13 06:18:05</td>\n",
       "      <td>22685</td>\n",
       "      <td>-122.843743</td>\n",
       "      <td>45.504095</td>\n",
       "      <td>12</td>\n",
       "      <td>0.8</td>\n",
       "    </tr>\n",
       "    <tr>\n",
       "      <th>237137</th>\n",
       "      <td>219000623</td>\n",
       "      <td>219000624</td>\n",
       "      <td>13DEC2022:00:00:00</td>\n",
       "      <td>2905</td>\n",
       "      <td>54</td>\n",
       "      <td>2022-12-13 06:18:10</td>\n",
       "      <td>22690</td>\n",
       "      <td>-122.843828</td>\n",
       "      <td>45.504118</td>\n",
       "      <td>12</td>\n",
       "      <td>0.8</td>\n",
       "    </tr>\n",
       "    <tr>\n",
       "      <th>237136</th>\n",
       "      <td>219000623</td>\n",
       "      <td>219000626</td>\n",
       "      <td>13DEC2022:00:00:00</td>\n",
       "      <td>2905</td>\n",
       "      <td>181</td>\n",
       "      <td>2022-12-13 06:19:00</td>\n",
       "      <td>22740</td>\n",
       "      <td>-122.843408</td>\n",
       "      <td>45.505170</td>\n",
       "      <td>12</td>\n",
       "      <td>0.8</td>\n",
       "    </tr>\n",
       "    <tr>\n",
       "      <th>237135</th>\n",
       "      <td>219000623</td>\n",
       "      <td>219000626</td>\n",
       "      <td>13DEC2022:00:00:00</td>\n",
       "      <td>2905</td>\n",
       "      <td>196</td>\n",
       "      <td>2022-12-13 06:19:05</td>\n",
       "      <td>22745</td>\n",
       "      <td>-122.843285</td>\n",
       "      <td>45.505283</td>\n",
       "      <td>11</td>\n",
       "      <td>0.9</td>\n",
       "    </tr>\n",
       "  </tbody>\n",
       "</table>\n",
       "</div>"
      ],
      "text/plain": [
       "        EVENT_NO_TRIP  EVENT_NO_STOP            OPD_DATE  VEHICLE_ID  METERS  \\\n",
       "237139      219000623      219000624  13DEC2022:00:00:00        2905      37   \n",
       "237138      219000623      219000624  13DEC2022:00:00:00        2905      47   \n",
       "237137      219000623      219000624  13DEC2022:00:00:00        2905      54   \n",
       "237136      219000623      219000626  13DEC2022:00:00:00        2905     181   \n",
       "237135      219000623      219000626  13DEC2022:00:00:00        2905     196   \n",
       "\n",
       "                 TIMESTAMP  ACT_TIME  GPS_LONGITUDE  GPS_LATITUDE  \\\n",
       "237139 2022-12-13 06:18:00     22680    -122.843617     45.504060   \n",
       "237138 2022-12-13 06:18:05     22685    -122.843743     45.504095   \n",
       "237137 2022-12-13 06:18:10     22690    -122.843828     45.504118   \n",
       "237136 2022-12-13 06:19:00     22740    -122.843408     45.505170   \n",
       "237135 2022-12-13 06:19:05     22745    -122.843285     45.505283   \n",
       "\n",
       "        GPS_SATELLITES  GPS_HDOP  \n",
       "237139              12       0.8  \n",
       "237138              12       0.8  \n",
       "237137              12       0.8  \n",
       "237136              12       0.8  \n",
       "237135              11       0.9  "
      ]
     },
     "execution_count": 19,
     "metadata": {},
     "output_type": "execute_result"
    }
   ],
   "source": [
    "df.head()"
   ]
  }
 ],
 "metadata": {
  "kernelspec": {
   "display_name": "Python 3",
   "language": "python",
   "name": "python3"
  },
  "language_info": {
   "codemirror_mode": {
    "name": "ipython",
    "version": 3
   },
   "file_extension": ".py",
   "mimetype": "text/x-python",
   "name": "python",
   "nbconvert_exporter": "python",
   "pygments_lexer": "ipython3",
   "version": "3.10.12"
  }
 },
 "nbformat": 4,
 "nbformat_minor": 2
}
