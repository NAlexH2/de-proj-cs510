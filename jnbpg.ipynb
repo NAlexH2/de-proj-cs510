{
 "cells": [
  {
   "cell_type": "code",
   "execution_count": 38,
   "metadata": {},
   "outputs": [],
   "source": [
    "from src.subpipe.validate import ValidateBusData\n",
    "import logging, os, sys, json\n",
    "import pandas as pd\n",
    "\n",
    "from src.utils.utils import (\n",
    "    DATA_MONTH_DAY,\n",
    "    SUBSCRIBER_DATA_PATH_JSON,\n",
    "    SUBSCRIBER_FOLDER,\n",
    "    curr_time_micro,\n",
    "    sub_logger,\n",
    ")\n",
    "\n",
    "logging.basicConfig(\n",
    "        format=\"\",\n",
    "        filename=f\"logs/notebook-{DATA_MONTH_DAY}.log\",\n",
    "        encoding=\"utf-8\",\n",
    "        filemode=\"a\",\n",
    "        level=logging.INFO,\n",
    ")"
   ]
  },
  {
   "cell_type": "code",
   "execution_count": 39,
   "metadata": {},
   "outputs": [],
   "source": [
    "df = pd.read_json(os.path.join(SUBSCRIBER_FOLDER, \"04-12.json\"))\n",
    "df = df.sort_values([\"VEHICLE_ID\", \"ACT_TIME\"], ascending=True)"
   ]
  },
  {
   "cell_type": "code",
   "execution_count": 40,
   "metadata": {},
   "outputs": [
    {
     "name": "stdout",
     "output_type": "stream",
     "text": [
      "[05-07-2024-17:57:10.472] LONGITUDE GOOD! Longitude sits within -122 and -124! Min and max vals are: -123.115868, -122.372643.\n"
     ]
    }
   ],
   "source": [
    "latitude_lowest_min = df['GPS_LONGITUDE'].min(axis=0) \n",
    "latitude_highest_max = df['GPS_LONGITUDE'].max(axis=0) \n",
    "latitude_low_bool = latitude_lowest_min > -124 # -124 or more\n",
    "latitude_high_bool = latitude_highest_max <= -122  # -122 or less\n",
    "try:\n",
    "    result = (latitude_low_bool) & (latitude_high_bool)\n",
    "    assert result.all() == True\n",
    "except:\n",
    "    sub_logger(\n",
    "        f\"{curr_time_micro()} LONGITUDE BAD!!!!! Longitude had the following min and max values: \"\n",
    "        + f\"{latitude_lowest_min}, {latitude_highest_max}.\"\n",
    "    )\n",
    "else:\n",
    "    sub_logger(\n",
    "        f\"{curr_time_micro()} LONGITUDE GOOD! Longitude sits within -122 and -124! Min and max vals are: \"\n",
    "        + f\"{latitude_lowest_min}, {latitude_highest_max}.\"\n",
    "    )"
   ]
  },
  {
   "cell_type": "code",
   "execution_count": 41,
   "metadata": {},
   "outputs": [
    {
     "name": "stdout",
     "output_type": "stream",
     "text": [
      "[05-07-2024-17:57:10.485] LATITUDE GOOD! Latitude sits within 45 and 46! Min and max vals are: 45.318728, 45.639137.\n"
     ]
    }
   ],
   "source": [
    "latitude_lowest_min = df['GPS_LATITUDE'].min(axis=0) \n",
    "latitude_highest_max = df['GPS_LATITUDE'].max(axis=0) \n",
    "latitude_low_bool = latitude_lowest_min >= 45 # -124 or more\n",
    "latitude_high_bool = latitude_highest_max < 46  # -122 or less\n",
    "try:\n",
    "    result = (latitude_low_bool) & (latitude_high_bool)\n",
    "    assert result.all() == True\n",
    "except:\n",
    "    sub_logger(\n",
    "        f\"{curr_time_micro()} LATITUDE BAD!!!!! Latitude had the following min and max values: \"\n",
    "        + f\"{latitude_lowest_min}, {latitude_highest_max}.\"\n",
    "    )\n",
    "else:\n",
    "    sub_logger(\n",
    "        f\"{curr_time_micro()} LATITUDE GOOD! Latitude sits within 45 and 46! Min and max vals are: \"\n",
    "        + f\"{latitude_lowest_min}, {latitude_highest_max}.\"\n",
    "    )"
   ]
  },
  {
   "cell_type": "code",
   "execution_count": 42,
   "metadata": {},
   "outputs": [
    {
     "name": "stdout",
     "output_type": "stream",
     "text": [
      "[05-07-2024-17:57:10.494] HDOP GOOD! All HDOP values 4 upto (not including) 23.1 are NaN on lat and long: .\n"
     ]
    }
   ],
   "source": [
    "gathered_HDOPs = df[(df['GPS_HDOP'] >= 4) & (df['GPS_HDOP'] < 23.1)]\n",
    "these_HDOPs_nan = ((gathered_HDOPs['GPS_LONGITUDE'].isna()) \n",
    "                   & (gathered_HDOPs['GPS_LATITUDE'].isna()))\n",
    "try:\n",
    "    assert these_HDOPs_nan.all() == True\n",
    "except:\n",
    "    sub_logger(\n",
    "        f\"{curr_time_micro()} HDOP BAD!!!!! There were some HDOPs with non-nan values on lat and long: \"\n",
    "        + f\"\\n{df[(gathered_HDOPs.notna())]}\"\n",
    "    )\n",
    "else:\n",
    "    sub_logger(\n",
    "        f\"{curr_time_micro()} HDOP GOOD! All HDOP values 4 upto (not including) 23.1 are NaN on lat and long: \"\n",
    "        + f\".\"\n",
    "    )"
   ]
  },
  {
   "cell_type": "code",
   "execution_count": 43,
   "metadata": {},
   "outputs": [
    {
     "name": "stdout",
     "output_type": "stream",
     "text": [
      "[05-07-2024-17:57:10.501] GPS Min Sats GOOD! Minimum number of satellites was 0!\n"
     ]
    }
   ],
   "source": [
    "sat_min = df['GPS_SATELLITES'].min()\n",
    "try:\n",
    "    assert sat_min == 0\n",
    "except:\n",
    "    sub_logger(\n",
    "        f\"{curr_time_micro()} GPS Min Sats BAD!!!!! The minimum number of satellites were: \"\n",
    "        + f\"\\n{sat_min}\"\n",
    "    )\n",
    "else:\n",
    "    sub_logger(\n",
    "        f\"{curr_time_micro()} GPS Min Sats GOOD! Minimum number of satellites was {sat_min}!\"\n",
    "    )"
   ]
  },
  {
   "cell_type": "code",
   "execution_count": 44,
   "metadata": {},
   "outputs": [
    {
     "name": "stdout",
     "output_type": "stream",
     "text": [
      "[05-07-2024-17:57:10.508] GPS Max Sats GOOD! Minimum number of satellites was 12!\n"
     ]
    }
   ],
   "source": [
    "sat_max = df['GPS_SATELLITES'].max()\n",
    "try:\n",
    "    assert sat_max == 12\n",
    "except:\n",
    "    sub_logger(\n",
    "        f\"{curr_time_micro()} GPS Max Sats BAD!!!!! The minimum number of satellites were: \"\n",
    "        + f\"\\n{sat_max}\"\n",
    "    )\n",
    "else:\n",
    "    sub_logger(\n",
    "        f\"{curr_time_micro()} GPS Max Sats GOOD! Minimum number of satellites was {sat_max}!\"\n",
    "    )"
   ]
  },
  {
   "cell_type": "code",
   "execution_count": 54,
   "metadata": {},
   "outputs": [
    {
     "name": "stdout",
     "output_type": "stream",
     "text": [
      "[05-07-2024-18:03:37.733] ZERO SATELLITES ASSERT GOOD! It seems that SOME 0 GPS satellite vehicles HAVE a lat and long\n"
     ]
    }
   ],
   "source": [
    "nine_or_more_sats = df[df['GPS_SATELLITES'] == 0]\n",
    "not_all_nan_lat = nine_or_more_sats[nine_or_more_sats['GPS_LATITUDE'].notna()]\n",
    "not_all_nan_long = nine_or_more_sats[nine_or_more_sats['GPS_LONGITUDE'].notna()]\n",
    "try:\n",
    "    assert not_all_nan_lat['GPS_LATITUDE'].notna().any() == True\n",
    "    assert not_all_nan_long['GPS_LONGITUDE'].notna().any() == True  \n",
    "except:\n",
    "    sub_logger(\n",
    "        f\"{curr_time_micro()} ZERO SATELLITES ASSERT BAD!!!! It seems that all \"\n",
    "        + f\"0 GPS satellite vehicles are missing lat and long\"\n",
    "    )\n",
    "else:\n",
    "    sub_logger(\n",
    "        f\"{curr_time_micro()} ZERO SATELLITES ASSERT GOOD! It seems that SOME \"\n",
    "        + f\"0 GPS satellite vehicles HAVE a lat and long\"\n",
    "    )"
   ]
  },
  {
   "cell_type": "code",
   "execution_count": 56,
   "metadata": {},
   "outputs": [
    {
     "name": "stdout",
     "output_type": "stream",
     "text": [
      "[05-07-2024-18:08:47.025] TWELVE SATELLITES ASSERT GOOD! It seems that ALL 12 GPS satellite vehicles HAVE a lat and long\n"
     ]
    }
   ],
   "source": [
    "nine_or_more_sats = df[df['GPS_SATELLITES'] == 12]\n",
    "all_yes_lat = nine_or_more_sats[nine_or_more_sats['GPS_LATITUDE'].notna()]\n",
    "all_yes_long = nine_or_more_sats[nine_or_more_sats['GPS_LONGITUDE'].notna()]\n",
    "try:\n",
    "    assert all_yes_lat['GPS_LATITUDE'].notna().all() == True\n",
    "    assert all_yes_long['GPS_LONGITUDE'].notna().all() == True  \n",
    "except:\n",
    "    sub_logger(\n",
    "        f\"{curr_time_micro()} TWELVE SATELLITES ASSERT BAD!!!! It seems that some \"\n",
    "        + f\"12 GPS satellite vehicles are missing lat and long\"\n",
    "    )\n",
    "else:\n",
    "    sub_logger(\n",
    "        f\"{curr_time_micro()} TWELVE SATELLITES ASSERT GOOD! It seems that ALL \"\n",
    "        + f\"12 GPS satellite vehicles HAVE a lat and long\"\n",
    "    )"
   ]
  },
  {
   "cell_type": "code",
   "execution_count": 64,
   "metadata": {},
   "outputs": [
    {
     "name": "stdout",
     "output_type": "stream",
     "text": [
      "False\n"
     ]
    }
   ],
   "source": [
    "print(df['ACT_TIME'].isna().all())"
   ]
  },
  {
   "cell_type": "code",
   "execution_count": 68,
   "metadata": {},
   "outputs": [
    {
     "name": "stdout",
     "output_type": "stream",
     "text": [
      "[05-07-2024-19:07:04.853] ACTIVITY RECORD ASSERT GOOD! It seems that ALL records HAVE an event activity time.\n"
     ]
    }
   ],
   "source": [
    "meters_bool = df['ACT_TIME'].isna().all() == False\n",
    "try:\n",
    "    assert meters_bool == True\n",
    "except:\n",
    "    sub_logger(\n",
    "        f\"{curr_time_micro()} ACTIVITY RECORD ASSERT BAD!!!! It seems that some \"\n",
    "        + f\"records are missing an event activity time.\"\n",
    "    )\n",
    "else:\n",
    "    sub_logger(\n",
    "        f\"{curr_time_micro()} ACTIVITY RECORD ASSERT GOOD! It seems that ALL \"\n",
    "        + f\"records HAVE an event activity time.\"\n",
    "    )"
   ]
  },
  {
   "cell_type": "code",
   "execution_count": 67,
   "metadata": {},
   "outputs": [
    {
     "name": "stdout",
     "output_type": "stream",
     "text": [
      "[05-07-2024-19:07:01.659] METERS RECORD ASSERT GOOD! It seems that ALL records HAVE an a meters metric.\n"
     ]
    }
   ],
   "source": [
    "meters_bool = df['METERS'].isna().all() == False\n",
    "try:\n",
    "    assert meters_bool == True\n",
    "except:\n",
    "    sub_logger(\n",
    "        f\"{curr_time_micro()} METERS RECORD ASSERT BAD!!!! It seems that some \"\n",
    "        + f\"records are missing an a meters metric.\"\n",
    "    )\n",
    "else:\n",
    "    sub_logger(\n",
    "        f\"{curr_time_micro()} METERS RECORD ASSERT GOOD! It seems that ALL \"\n",
    "        + f\"records HAVE an a meters metric.\"\n",
    "    )"
   ]
  }
 ],
 "metadata": {
  "kernelspec": {
   "display_name": "Python 3",
   "language": "python",
   "name": "python3"
  },
  "language_info": {
   "codemirror_mode": {
    "name": "ipython",
    "version": 3
   },
   "file_extension": ".py",
   "mimetype": "text/x-python",
   "name": "python",
   "nbconvert_exporter": "python",
   "pygments_lexer": "ipython3",
   "version": "3.10.12"
  }
 },
 "nbformat": 4,
 "nbformat_minor": 2
}
