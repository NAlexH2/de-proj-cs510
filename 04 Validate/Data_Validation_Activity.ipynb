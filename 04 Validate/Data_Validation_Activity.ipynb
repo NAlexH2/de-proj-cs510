{
  "nbformat": 4,
  "nbformat_minor": 0,
  "metadata": {
    "colab": {
      "provenance": []
    },
    "kernelspec": {
      "name": "python3",
      "display_name": "Python 3"
    },
    "language_info": {
      "name": "python"
    }
  },
  "cells": [
    {
      "cell_type": "code",
      "execution_count": 123,
      "metadata": {
        "id": "R04IljnU_Mc6"
      },
      "outputs": [],
      "source": [
        "import pandas as pd"
      ]
    },
    {
      "cell_type": "code",
      "source": [
        "df = pd.read_csv(\"./Hwy26Crashes2019_S23.csv\")"
      ],
      "metadata": {
        "id": "qDXG6IhkAX8I"
      },
      "execution_count": 124,
      "outputs": []
    },
    {
      "cell_type": "code",
      "source": [
        "df.head()"
      ],
      "metadata": {
        "id": "UpkIgCPNAlL8",
        "colab": {
          "base_uri": "https://localhost:8080/",
          "height": 308
        },
        "outputId": "cc39aebc-cd22-4541-869e-6d925460b14a"
      },
      "execution_count": 125,
      "outputs": [
        {
          "output_type": "execute_result",
          "data": {
            "text/plain": [
              "   Crash ID  Record Type  Vehicle ID  Participant ID  \\\n",
              "0   1809119            1         NaN             NaN   \n",
              "1   1809119            2   3409578.0             NaN   \n",
              "2   1809119            3   3409578.0       3887884.0   \n",
              "3   1809119            2   3409579.0             NaN   \n",
              "4   1809119            3   3409579.0       3887885.0   \n",
              "\n",
              "   Participant Display Seq#  Vehicle Coded Seq#  Participant Vehicle Seq#  \\\n",
              "0                       NaN                 NaN                       NaN   \n",
              "1                       NaN                 1.0                       NaN   \n",
              "2                       1.0                 1.0                       1.0   \n",
              "3                       NaN                 2.0                       NaN   \n",
              "4                       2.0                 2.0                       1.0   \n",
              "\n",
              "   Serial #  Crash Month  Crash Day  ...  Participant Cause 2 Code  \\\n",
              "0   99992.0          3.0       14.0  ...                       NaN   \n",
              "1       NaN          NaN        NaN  ...                       NaN   \n",
              "2       NaN          NaN        NaN  ...                       NaN   \n",
              "3       NaN          NaN        NaN  ...                       NaN   \n",
              "4       NaN          NaN        NaN  ...                       NaN   \n",
              "\n",
              "   Participant Cause 3 Code  Participant Event 1 Code  \\\n",
              "0                       NaN                       NaN   \n",
              "1                       NaN                       NaN   \n",
              "2                       0.0                       9.0   \n",
              "3                       NaN                       NaN   \n",
              "4                       NaN                       9.0   \n",
              "\n",
              "   Participant Event 2 Code  Participant Event 3 Code  BAC Test Results Code  \\\n",
              "0                       NaN                       NaN                    NaN   \n",
              "1                       NaN                       NaN                    NaN   \n",
              "2                       0.0                       0.0                    NaN   \n",
              "3                       NaN                       NaN                    NaN   \n",
              "4                       9.0                       0.0                    NaN   \n",
              "\n",
              "   Alcohol Use Reported  Drug Use Reported  \\\n",
              "0                   NaN                NaN   \n",
              "1                   NaN                NaN   \n",
              "2                   NaN                NaN   \n",
              "3                   NaN                NaN   \n",
              "4                   NaN                NaN   \n",
              "\n",
              "   Participant Marijuana Use Reported  Participant Striker Flag  \n",
              "0                                 NaN                       NaN  \n",
              "1                                 NaN                       NaN  \n",
              "2                                 NaN                       NaN  \n",
              "3                                 NaN                       NaN  \n",
              "4                                 NaN                       NaN  \n",
              "\n",
              "[5 rows x 157 columns]"
            ],
            "text/html": [
              "\n",
              "  <div id=\"df-0031e084-b4a4-430d-b120-520adecb28f8\" class=\"colab-df-container\">\n",
              "    <div>\n",
              "<style scoped>\n",
              "    .dataframe tbody tr th:only-of-type {\n",
              "        vertical-align: middle;\n",
              "    }\n",
              "\n",
              "    .dataframe tbody tr th {\n",
              "        vertical-align: top;\n",
              "    }\n",
              "\n",
              "    .dataframe thead th {\n",
              "        text-align: right;\n",
              "    }\n",
              "</style>\n",
              "<table border=\"1\" class=\"dataframe\">\n",
              "  <thead>\n",
              "    <tr style=\"text-align: right;\">\n",
              "      <th></th>\n",
              "      <th>Crash ID</th>\n",
              "      <th>Record Type</th>\n",
              "      <th>Vehicle ID</th>\n",
              "      <th>Participant ID</th>\n",
              "      <th>Participant Display Seq#</th>\n",
              "      <th>Vehicle Coded Seq#</th>\n",
              "      <th>Participant Vehicle Seq#</th>\n",
              "      <th>Serial #</th>\n",
              "      <th>Crash Month</th>\n",
              "      <th>Crash Day</th>\n",
              "      <th>...</th>\n",
              "      <th>Participant Cause 2 Code</th>\n",
              "      <th>Participant Cause 3 Code</th>\n",
              "      <th>Participant Event 1 Code</th>\n",
              "      <th>Participant Event 2 Code</th>\n",
              "      <th>Participant Event 3 Code</th>\n",
              "      <th>BAC Test Results Code</th>\n",
              "      <th>Alcohol Use Reported</th>\n",
              "      <th>Drug Use Reported</th>\n",
              "      <th>Participant Marijuana Use Reported</th>\n",
              "      <th>Participant Striker Flag</th>\n",
              "    </tr>\n",
              "  </thead>\n",
              "  <tbody>\n",
              "    <tr>\n",
              "      <th>0</th>\n",
              "      <td>1809119</td>\n",
              "      <td>1</td>\n",
              "      <td>NaN</td>\n",
              "      <td>NaN</td>\n",
              "      <td>NaN</td>\n",
              "      <td>NaN</td>\n",
              "      <td>NaN</td>\n",
              "      <td>99992.0</td>\n",
              "      <td>3.0</td>\n",
              "      <td>14.0</td>\n",
              "      <td>...</td>\n",
              "      <td>NaN</td>\n",
              "      <td>NaN</td>\n",
              "      <td>NaN</td>\n",
              "      <td>NaN</td>\n",
              "      <td>NaN</td>\n",
              "      <td>NaN</td>\n",
              "      <td>NaN</td>\n",
              "      <td>NaN</td>\n",
              "      <td>NaN</td>\n",
              "      <td>NaN</td>\n",
              "    </tr>\n",
              "    <tr>\n",
              "      <th>1</th>\n",
              "      <td>1809119</td>\n",
              "      <td>2</td>\n",
              "      <td>3409578.0</td>\n",
              "      <td>NaN</td>\n",
              "      <td>NaN</td>\n",
              "      <td>1.0</td>\n",
              "      <td>NaN</td>\n",
              "      <td>NaN</td>\n",
              "      <td>NaN</td>\n",
              "      <td>NaN</td>\n",
              "      <td>...</td>\n",
              "      <td>NaN</td>\n",
              "      <td>NaN</td>\n",
              "      <td>NaN</td>\n",
              "      <td>NaN</td>\n",
              "      <td>NaN</td>\n",
              "      <td>NaN</td>\n",
              "      <td>NaN</td>\n",
              "      <td>NaN</td>\n",
              "      <td>NaN</td>\n",
              "      <td>NaN</td>\n",
              "    </tr>\n",
              "    <tr>\n",
              "      <th>2</th>\n",
              "      <td>1809119</td>\n",
              "      <td>3</td>\n",
              "      <td>3409578.0</td>\n",
              "      <td>3887884.0</td>\n",
              "      <td>1.0</td>\n",
              "      <td>1.0</td>\n",
              "      <td>1.0</td>\n",
              "      <td>NaN</td>\n",
              "      <td>NaN</td>\n",
              "      <td>NaN</td>\n",
              "      <td>...</td>\n",
              "      <td>NaN</td>\n",
              "      <td>0.0</td>\n",
              "      <td>9.0</td>\n",
              "      <td>0.0</td>\n",
              "      <td>0.0</td>\n",
              "      <td>NaN</td>\n",
              "      <td>NaN</td>\n",
              "      <td>NaN</td>\n",
              "      <td>NaN</td>\n",
              "      <td>NaN</td>\n",
              "    </tr>\n",
              "    <tr>\n",
              "      <th>3</th>\n",
              "      <td>1809119</td>\n",
              "      <td>2</td>\n",
              "      <td>3409579.0</td>\n",
              "      <td>NaN</td>\n",
              "      <td>NaN</td>\n",
              "      <td>2.0</td>\n",
              "      <td>NaN</td>\n",
              "      <td>NaN</td>\n",
              "      <td>NaN</td>\n",
              "      <td>NaN</td>\n",
              "      <td>...</td>\n",
              "      <td>NaN</td>\n",
              "      <td>NaN</td>\n",
              "      <td>NaN</td>\n",
              "      <td>NaN</td>\n",
              "      <td>NaN</td>\n",
              "      <td>NaN</td>\n",
              "      <td>NaN</td>\n",
              "      <td>NaN</td>\n",
              "      <td>NaN</td>\n",
              "      <td>NaN</td>\n",
              "    </tr>\n",
              "    <tr>\n",
              "      <th>4</th>\n",
              "      <td>1809119</td>\n",
              "      <td>3</td>\n",
              "      <td>3409579.0</td>\n",
              "      <td>3887885.0</td>\n",
              "      <td>2.0</td>\n",
              "      <td>2.0</td>\n",
              "      <td>1.0</td>\n",
              "      <td>NaN</td>\n",
              "      <td>NaN</td>\n",
              "      <td>NaN</td>\n",
              "      <td>...</td>\n",
              "      <td>NaN</td>\n",
              "      <td>NaN</td>\n",
              "      <td>9.0</td>\n",
              "      <td>9.0</td>\n",
              "      <td>0.0</td>\n",
              "      <td>NaN</td>\n",
              "      <td>NaN</td>\n",
              "      <td>NaN</td>\n",
              "      <td>NaN</td>\n",
              "      <td>NaN</td>\n",
              "    </tr>\n",
              "  </tbody>\n",
              "</table>\n",
              "<p>5 rows × 157 columns</p>\n",
              "</div>\n",
              "    <div class=\"colab-df-buttons\">\n",
              "\n",
              "  <div class=\"colab-df-container\">\n",
              "    <button class=\"colab-df-convert\" onclick=\"convertToInteractive('df-0031e084-b4a4-430d-b120-520adecb28f8')\"\n",
              "            title=\"Convert this dataframe to an interactive table.\"\n",
              "            style=\"display:none;\">\n",
              "\n",
              "  <svg xmlns=\"http://www.w3.org/2000/svg\" height=\"24px\" viewBox=\"0 -960 960 960\">\n",
              "    <path d=\"M120-120v-720h720v720H120Zm60-500h600v-160H180v160Zm220 220h160v-160H400v160Zm0 220h160v-160H400v160ZM180-400h160v-160H180v160Zm440 0h160v-160H620v160ZM180-180h160v-160H180v160Zm440 0h160v-160H620v160Z\"/>\n",
              "  </svg>\n",
              "    </button>\n",
              "\n",
              "  <style>\n",
              "    .colab-df-container {\n",
              "      display:flex;\n",
              "      gap: 12px;\n",
              "    }\n",
              "\n",
              "    .colab-df-convert {\n",
              "      background-color: #E8F0FE;\n",
              "      border: none;\n",
              "      border-radius: 50%;\n",
              "      cursor: pointer;\n",
              "      display: none;\n",
              "      fill: #1967D2;\n",
              "      height: 32px;\n",
              "      padding: 0 0 0 0;\n",
              "      width: 32px;\n",
              "    }\n",
              "\n",
              "    .colab-df-convert:hover {\n",
              "      background-color: #E2EBFA;\n",
              "      box-shadow: 0px 1px 2px rgba(60, 64, 67, 0.3), 0px 1px 3px 1px rgba(60, 64, 67, 0.15);\n",
              "      fill: #174EA6;\n",
              "    }\n",
              "\n",
              "    .colab-df-buttons div {\n",
              "      margin-bottom: 4px;\n",
              "    }\n",
              "\n",
              "    [theme=dark] .colab-df-convert {\n",
              "      background-color: #3B4455;\n",
              "      fill: #D2E3FC;\n",
              "    }\n",
              "\n",
              "    [theme=dark] .colab-df-convert:hover {\n",
              "      background-color: #434B5C;\n",
              "      box-shadow: 0px 1px 3px 1px rgba(0, 0, 0, 0.15);\n",
              "      filter: drop-shadow(0px 1px 2px rgba(0, 0, 0, 0.3));\n",
              "      fill: #FFFFFF;\n",
              "    }\n",
              "  </style>\n",
              "\n",
              "    <script>\n",
              "      const buttonEl =\n",
              "        document.querySelector('#df-0031e084-b4a4-430d-b120-520adecb28f8 button.colab-df-convert');\n",
              "      buttonEl.style.display =\n",
              "        google.colab.kernel.accessAllowed ? 'block' : 'none';\n",
              "\n",
              "      async function convertToInteractive(key) {\n",
              "        const element = document.querySelector('#df-0031e084-b4a4-430d-b120-520adecb28f8');\n",
              "        const dataTable =\n",
              "          await google.colab.kernel.invokeFunction('convertToInteractive',\n",
              "                                                    [key], {});\n",
              "        if (!dataTable) return;\n",
              "\n",
              "        const docLinkHtml = 'Like what you see? Visit the ' +\n",
              "          '<a target=\"_blank\" href=https://colab.research.google.com/notebooks/data_table.ipynb>data table notebook</a>'\n",
              "          + ' to learn more about interactive tables.';\n",
              "        element.innerHTML = '';\n",
              "        dataTable['output_type'] = 'display_data';\n",
              "        await google.colab.output.renderOutput(dataTable, element);\n",
              "        const docLink = document.createElement('div');\n",
              "        docLink.innerHTML = docLinkHtml;\n",
              "        element.appendChild(docLink);\n",
              "      }\n",
              "    </script>\n",
              "  </div>\n",
              "\n",
              "\n",
              "<div id=\"df-aa17c210-38ff-465f-9b90-8e09b2246690\">\n",
              "  <button class=\"colab-df-quickchart\" onclick=\"quickchart('df-aa17c210-38ff-465f-9b90-8e09b2246690')\"\n",
              "            title=\"Suggest charts\"\n",
              "            style=\"display:none;\">\n",
              "\n",
              "<svg xmlns=\"http://www.w3.org/2000/svg\" height=\"24px\"viewBox=\"0 0 24 24\"\n",
              "     width=\"24px\">\n",
              "    <g>\n",
              "        <path d=\"M19 3H5c-1.1 0-2 .9-2 2v14c0 1.1.9 2 2 2h14c1.1 0 2-.9 2-2V5c0-1.1-.9-2-2-2zM9 17H7v-7h2v7zm4 0h-2V7h2v10zm4 0h-2v-4h2v4z\"/>\n",
              "    </g>\n",
              "</svg>\n",
              "  </button>\n",
              "\n",
              "<style>\n",
              "  .colab-df-quickchart {\n",
              "      --bg-color: #E8F0FE;\n",
              "      --fill-color: #1967D2;\n",
              "      --hover-bg-color: #E2EBFA;\n",
              "      --hover-fill-color: #174EA6;\n",
              "      --disabled-fill-color: #AAA;\n",
              "      --disabled-bg-color: #DDD;\n",
              "  }\n",
              "\n",
              "  [theme=dark] .colab-df-quickchart {\n",
              "      --bg-color: #3B4455;\n",
              "      --fill-color: #D2E3FC;\n",
              "      --hover-bg-color: #434B5C;\n",
              "      --hover-fill-color: #FFFFFF;\n",
              "      --disabled-bg-color: #3B4455;\n",
              "      --disabled-fill-color: #666;\n",
              "  }\n",
              "\n",
              "  .colab-df-quickchart {\n",
              "    background-color: var(--bg-color);\n",
              "    border: none;\n",
              "    border-radius: 50%;\n",
              "    cursor: pointer;\n",
              "    display: none;\n",
              "    fill: var(--fill-color);\n",
              "    height: 32px;\n",
              "    padding: 0;\n",
              "    width: 32px;\n",
              "  }\n",
              "\n",
              "  .colab-df-quickchart:hover {\n",
              "    background-color: var(--hover-bg-color);\n",
              "    box-shadow: 0 1px 2px rgba(60, 64, 67, 0.3), 0 1px 3px 1px rgba(60, 64, 67, 0.15);\n",
              "    fill: var(--button-hover-fill-color);\n",
              "  }\n",
              "\n",
              "  .colab-df-quickchart-complete:disabled,\n",
              "  .colab-df-quickchart-complete:disabled:hover {\n",
              "    background-color: var(--disabled-bg-color);\n",
              "    fill: var(--disabled-fill-color);\n",
              "    box-shadow: none;\n",
              "  }\n",
              "\n",
              "  .colab-df-spinner {\n",
              "    border: 2px solid var(--fill-color);\n",
              "    border-color: transparent;\n",
              "    border-bottom-color: var(--fill-color);\n",
              "    animation:\n",
              "      spin 1s steps(1) infinite;\n",
              "  }\n",
              "\n",
              "  @keyframes spin {\n",
              "    0% {\n",
              "      border-color: transparent;\n",
              "      border-bottom-color: var(--fill-color);\n",
              "      border-left-color: var(--fill-color);\n",
              "    }\n",
              "    20% {\n",
              "      border-color: transparent;\n",
              "      border-left-color: var(--fill-color);\n",
              "      border-top-color: var(--fill-color);\n",
              "    }\n",
              "    30% {\n",
              "      border-color: transparent;\n",
              "      border-left-color: var(--fill-color);\n",
              "      border-top-color: var(--fill-color);\n",
              "      border-right-color: var(--fill-color);\n",
              "    }\n",
              "    40% {\n",
              "      border-color: transparent;\n",
              "      border-right-color: var(--fill-color);\n",
              "      border-top-color: var(--fill-color);\n",
              "    }\n",
              "    60% {\n",
              "      border-color: transparent;\n",
              "      border-right-color: var(--fill-color);\n",
              "    }\n",
              "    80% {\n",
              "      border-color: transparent;\n",
              "      border-right-color: var(--fill-color);\n",
              "      border-bottom-color: var(--fill-color);\n",
              "    }\n",
              "    90% {\n",
              "      border-color: transparent;\n",
              "      border-bottom-color: var(--fill-color);\n",
              "    }\n",
              "  }\n",
              "</style>\n",
              "\n",
              "  <script>\n",
              "    async function quickchart(key) {\n",
              "      const quickchartButtonEl =\n",
              "        document.querySelector('#' + key + ' button');\n",
              "      quickchartButtonEl.disabled = true;  // To prevent multiple clicks.\n",
              "      quickchartButtonEl.classList.add('colab-df-spinner');\n",
              "      try {\n",
              "        const charts = await google.colab.kernel.invokeFunction(\n",
              "            'suggestCharts', [key], {});\n",
              "      } catch (error) {\n",
              "        console.error('Error during call to suggestCharts:', error);\n",
              "      }\n",
              "      quickchartButtonEl.classList.remove('colab-df-spinner');\n",
              "      quickchartButtonEl.classList.add('colab-df-quickchart-complete');\n",
              "    }\n",
              "    (() => {\n",
              "      let quickchartButtonEl =\n",
              "        document.querySelector('#df-aa17c210-38ff-465f-9b90-8e09b2246690 button');\n",
              "      quickchartButtonEl.style.display =\n",
              "        google.colab.kernel.accessAllowed ? 'block' : 'none';\n",
              "    })();\n",
              "  </script>\n",
              "</div>\n",
              "    </div>\n",
              "  </div>\n"
            ],
            "application/vnd.google.colaboratory.intrinsic+json": {
              "type": "dataframe",
              "variable_name": "df"
            }
          },
          "metadata": {},
          "execution_count": 125
        }
      ]
    },
    {
      "cell_type": "markdown",
      "source": [
        "#b.1"
      ],
      "metadata": {
        "id": "Y1C9Z70qzmHB"
      }
    },
    {
      "cell_type": "code",
      "source": [
        "try:\n",
        "  print(\"Does each entry have a 'Vehicle Ownership Code'?\")\n",
        "  assert df['Vehicle Ownership Code'].all() == True\n",
        "except:\n",
        "  print(\"Not every entery has a 'Vehichle Ownership Code'. This is bad!\")\n",
        "else:\n",
        "  print(\"They all do have codes!\")\n"
      ],
      "metadata": {
        "id": "_YV3hcwMAmAd",
        "colab": {
          "base_uri": "https://localhost:8080/"
        },
        "outputId": "70df5800-9307-433f-c27b-2f33f78da1a8"
      },
      "execution_count": 126,
      "outputs": [
        {
          "output_type": "stream",
          "name": "stdout",
          "text": [
            "Does each entry have a 'Vehicle Ownership Code'?\n",
            "Not every entery has a 'Vehichle Ownership Code'. This is bad!\n"
          ]
        }
      ]
    },
    {
      "cell_type": "markdown",
      "source": [
        "#b.2"
      ],
      "metadata": {
        "id": "OOjEnFQazqrQ"
      }
    },
    {
      "cell_type": "code",
      "source": [
        "try:\n",
        "  print(\"Excluding NaN values, are all Serial # < 6 digits\")\n",
        "  assert (int(df['Serial #'].dropna().max()) >= 100000) == False\n",
        "except:\n",
        "  print(\"No, there happens to be a Serial # > six digits in size\")\n",
        "else:\n",
        "  print(\"Yes! They all have less than 6 digits for Serial #\")\n"
      ],
      "metadata": {
        "colab": {
          "base_uri": "https://localhost:8080/"
        },
        "id": "59YYqc5KBSW8",
        "outputId": "73dad01b-b44c-4682-dbcd-49958c1a1167"
      },
      "execution_count": 127,
      "outputs": [
        {
          "output_type": "stream",
          "name": "stdout",
          "text": [
            "Excluding NaN values, are all Serial # < 6 digits\n",
            "Yes! They all have less than 6 digits for Serial #\n"
          ]
        }
      ]
    },
    {
      "cell_type": "markdown",
      "source": [
        "#b.3"
      ],
      "metadata": {
        "id": "cF980X8tzi1L"
      }
    },
    {
      "cell_type": "code",
      "source": [
        "try:\n",
        "  print(\"Every turning leg also must have a median type.\")\n",
        "  condition = df['Number of Turning Legs'].notnull() & df['Median Type'].isnull()\n",
        "  assert not condition.any()\n",
        "except:\n",
        "  print(\"Unfortunately, every turning leg doesn't have a median type.\")\n",
        "else:\n",
        "  print(\"HUZZAH! Every turning leg has a median type.\")\n"
      ],
      "metadata": {
        "id": "-K6n6RdmIc_1",
        "colab": {
          "base_uri": "https://localhost:8080/"
        },
        "outputId": "44c156bc-cbc7-44e5-8660-94c4ae156dce"
      },
      "execution_count": 128,
      "outputs": [
        {
          "output_type": "stream",
          "name": "stdout",
          "text": [
            "Every turning leg also must have a median type.\n",
            "HUZZAH! Every turning leg has a median type.\n"
          ]
        }
      ]
    },
    {
      "cell_type": "markdown",
      "source": [
        "#b.4"
      ],
      "metadata": {
        "id": "0amKBE-kz2-R"
      }
    },
    {
      "cell_type": "code",
      "source": [
        "try:\n",
        "  print(\"Every crash has a 'Crash ID'. Every crash has a 'Record Type'.\")\n",
        "  assert df['Crash ID'].notnull\n",
        "  assert df['Record Type'].notnull\n",
        "except:\n",
        "  print(\"Seems as if either a crash ID is missing, or a record type is.\")\n",
        "else:\n",
        "  print(\"WINNER WINNER! CHICKEN DINNER! Every crash has a 'Crash ID'. Every crash has a 'Record Type'.\")"
      ],
      "metadata": {
        "colab": {
          "base_uri": "https://localhost:8080/"
        },
        "id": "leNGx9QJt2s2",
        "outputId": "37037f58-6e6f-4bec-caa6-9b6dcf4bb292"
      },
      "execution_count": 129,
      "outputs": [
        {
          "output_type": "stream",
          "name": "stdout",
          "text": [
            "Every crash has a 'Crash ID'. Every crash has a 'Record Type'.\n",
            "WINNER WINNER! CHICKEN DINNER! Every crash has a 'Crash ID'. Every crash has a 'Record Type'.\n"
          ]
        }
      ]
    },
    {
      "cell_type": "markdown",
      "source": [
        "#b.5"
      ],
      "metadata": {
        "id": "BWV-qCku0bg5"
      }
    },
    {
      "cell_type": "code",
      "source": [
        "try:\n",
        "  print(\"Most crashes have a participant ID. Most Crashes have a Vehicle ID.\")\n",
        "  assert df['Participant ID'].count() > df['Participant ID'].isnull().sum(), \"There are more crashes WITHOUT a Participant ID than there are with.\\n\\tThis might because one crash ID is covering multiple vehlicles/circumstances.\"\n",
        "\n",
        "  assert df['Vehicle ID'].count() > df['Vehicle ID'].isnull().sum(), \"There are more crashes MISSING a Vehicle ID than there are that have one.\"\n",
        "except AssertionError as e:\n",
        "  print(\"Failed: \", e)\n",
        "else:\n",
        "  print(\"Indeed.. Most crashes have a participant ID. Most Crashes have a Vehicle ID..\")"
      ],
      "metadata": {
        "colab": {
          "base_uri": "https://localhost:8080/"
        },
        "id": "9KHAp8ub0VNT",
        "outputId": "d43cc9d9-cf52-45f5-c8ca-5a9371fa4232"
      },
      "execution_count": 130,
      "outputs": [
        {
          "output_type": "stream",
          "name": "stdout",
          "text": [
            "Most crashes have a participant ID. Most Crashes have a Vehicle ID.\n",
            "Failed:  There are more crashes WITHOUT a Participant ID than there are with.\n",
            "\tThis might because one crash ID is covering multiple vehlicles/circumstances.\n"
          ]
        }
      ]
    },
    {
      "cell_type": "markdown",
      "source": [
        "#b.6"
      ],
      "metadata": {
        "id": "Br9aN_5u32oq"
      }
    },
    {
      "cell_type": "code",
      "source": [
        "try:\n",
        "  print(\"Most crashes happen during the day.\")\n",
        "  count_7_15 = df['Crash Hour'].between(7, 15).sum()\n",
        "  count_16_6 = df['Crash Hour'].between(16, 23).sum() + df['Crash Hour'].between(0, 6).sum()\n",
        "  assert  count_7_15 > count_16_6, f\"7am to 3pm totals: {count_7_15}, 4pm to 6am totals: {count_16_6}\"\n",
        "except AssertionError as e:\n",
        "  print(f\"FAILED: {e}\")\n",
        "else:\n",
        "  print(f\"Yes! Most crashes happen during the day. --- 7am to 3pm totals: {count_7_15}, 4pm to 6am totals: {count_16_6}\")"
      ],
      "metadata": {
        "colab": {
          "base_uri": "https://localhost:8080/"
        },
        "id": "IwQzxU4g3e_P",
        "outputId": "bf533316-7adf-4f71-b328-901e54c75f00"
      },
      "execution_count": 131,
      "outputs": [
        {
          "output_type": "stream",
          "name": "stdout",
          "text": [
            "Most crashes happen during the day.\n",
            "Yes! Most crashes happen during the day. --- 7am to 3pm totals: 264, 4pm to 6am totals: 240\n"
          ]
        }
      ]
    },
    {
      "cell_type": "code",
      "source": [
        "try:\n",
        "  print(\"Most crashes occurred during the winter.\")\n",
        "  count_nw = df['Crash Month'].between(5, 10).sum()\n",
        "  count_w = df['Crash Month'].between(11, 12).sum() + df['Crash Month'].between(1, 4).sum()\n",
        "  assert  count_w > count_nw, f\"May - October totals: {count_nw}, November - April totals: {count_w}\"\n",
        "except AssertionError as e:\n",
        "  print(f\"FAILED: {e}\")\n",
        "else:\n",
        "  print(f\"YUP! Most crashes occurred during the winter. --- May - October totals: {count_nw}, November - April totals: {count_w}\")"
      ],
      "metadata": {
        "colab": {
          "base_uri": "https://localhost:8080/"
        },
        "id": "bm9Qk5C84aYI",
        "outputId": "38e759c9-4f34-47bf-cebb-08b19aa8d9c2"
      },
      "execution_count": 132,
      "outputs": [
        {
          "output_type": "stream",
          "name": "stdout",
          "text": [
            "Most crashes occurred during the winter.\n",
            "YUP! Most crashes occurred during the winter. --- May - October totals: 217, November - April totals: 291\n"
          ]
        }
      ]
    },
    {
      "cell_type": "markdown",
      "source": [
        "I re-wrote these last two to match my assumptions. I hadn't realized we would do this at some point in the exercise and jumped ahead wanting to get the answers I was seeking. Essentially, part of E was complete, and I didn't keep the failing ones."
      ],
      "metadata": {
        "id": "68y27yF5ASKb"
      }
    }
  ]
}