{
 "cells": [
  {
   "cell_type": "markdown",
   "metadata": {},
   "source": [
    "# Skip this. Save it for a challenge later. Trying to find all lat and long missing and approximating it"
   ]
  },
  {
   "cell_type": "code",
   "execution_count": 100,
   "metadata": {},
   "outputs": [],
   "source": [
    "# na_gps_rows = df[(df['GPS_LONGITUDE'].isna()) | (df['GPS_LATITUDE'].isna())]\n",
    "# vid_list_nans = na_gps_rows['VEHICLE_ID'].drop_duplicates(keep='first').tolist()"
   ]
  },
  {
   "cell_type": "code",
   "execution_count": 101,
   "metadata": {},
   "outputs": [],
   "source": [
    "# def fill_lat_long(row):\n",
    "#     if pd.isna(row['GPS_LATITUDE']) or pd.isna(row['GPS_LONGITUDE']):\n",
    "#         prev_lat = df.at[row.name - 1, 'GPS_LATITUDE']\n",
    "#         prev_long = df.at[row.name - 1, 'GPS_LONGITUDE']\n",
    "#         a_distance = df.at[row.name - 1, 'METERS']\n",
    "#         b_distance = row['METERS']\n",
    "        \n",
    "#         filled_lat, filled_long = lat_long_filler((prev_lat, prev_long), a_distance, b_distance)\n",
    "#         return pd.Series({'GPS_LATITUDE': filled_lat, 'GPS_LONGITUDE': filled_long})\n",
    "#     else:\n",
    "#         return row[['GPS_LATITUDE', 'GPS_LONGITUDE']]"
   ]
  },
  {
   "cell_type": "code",
   "execution_count": 102,
   "metadata": {},
   "outputs": [],
   "source": [
    "# for id in vid_list_nans:\n",
    "#     cur_vid_rows = df[df['VEHICLE_ID'] == id]\n",
    "#     if (cur_vid_rows['GPS_LATITUDE'].isna().any()) or (cur_vid_rows['GPS_LONGITUDE'].isna().any()):\n",
    "#         caught_series = cur_vid_rows.apply(fill_lat_long, axis=1)\n",
    "#         df[df['VEHICLE_ID'] == id] = caught_series"
   ]
  },
  {
   "cell_type": "markdown",
   "metadata": {},
   "source": [
    "# Setup"
   ]
  },
  {
   "cell_type": "code",
   "execution_count": 103,
   "metadata": {},
   "outputs": [],
   "source": [
    "from src.subpipe.validate import ValidateBusData\n",
    "import logging, os, sys, json\n",
    "import pandas as pd\n",
    "\n",
    "from src.utils.utils import (\n",
    "    DATA_MONTH_DAY,\n",
    "    SUBSCRIBER_DATA_PATH_JSON,\n",
    "    SUBSCRIBER_FOLDER,\n",
    "    curr_time_micro,\n",
    "    sub_logger,\n",
    "    lat_long_filler\n",
    ")\n",
    "\n",
    "logging.basicConfig(\n",
    "        format=\"\",\n",
    "        filename=f\"logs/notebook-{DATA_MONTH_DAY}.log\",\n",
    "        encoding=\"utf-8\",\n",
    "        filemode=\"a\",\n",
    "        level=logging.INFO,\n",
    ")"
   ]
  },
  {
   "cell_type": "markdown",
   "metadata": {},
   "source": [
    "# Code For Transform"
   ]
  },
  {
   "cell_type": "code",
   "execution_count": 104,
   "metadata": {},
   "outputs": [
    {
     "data": {
      "text/plain": [
       "2953540"
      ]
     },
     "execution_count": 104,
     "metadata": {},
     "output_type": "execute_result"
    }
   ],
   "source": [
    "df = pd.read_json(os.path.join(SUBSCRIBER_FOLDER, \"04-12.json\"))\n",
    "df.size"
   ]
  },
  {
   "cell_type": "code",
   "execution_count": 105,
   "metadata": {},
   "outputs": [
    {
     "data": {
      "text/plain": [
       "2953540"
      ]
     },
     "execution_count": 105,
     "metadata": {},
     "output_type": "execute_result"
    }
   ],
   "source": [
    "df = df.sort_values([\"VEHICLE_ID\", \"ACT_TIME\"], ascending=True)\n",
    "df.size"
   ]
  },
  {
   "cell_type": "code",
   "execution_count": 106,
   "metadata": {},
   "outputs": [
    {
     "data": {
      "text/plain": [
       "2952180"
      ]
     },
     "execution_count": 106,
     "metadata": {},
     "output_type": "execute_result"
    }
   ],
   "source": [
    "df = df.dropna()\n",
    "df.size"
   ]
  },
  {
   "cell_type": "code",
   "execution_count": 107,
   "metadata": {},
   "outputs": [
    {
     "data": {
      "text/plain": [
       "3247398"
      ]
     },
     "execution_count": 107,
     "metadata": {},
     "output_type": "execute_result"
    }
   ],
   "source": [
    "df = df.reset_index(level=0)\n",
    "df.size"
   ]
  },
  {
   "cell_type": "code",
   "execution_count": 108,
   "metadata": {},
   "outputs": [
    {
     "data": {
      "text/plain": [
       "2361744"
      ]
     },
     "execution_count": 108,
     "metadata": {},
     "output_type": "execute_result"
    }
   ],
   "source": [
    "df = df.drop(columns=['index', 'GPS_SATELLITES', 'GPS_HDOP'])\n",
    "df.size"
   ]
  },
  {
   "cell_type": "code",
   "execution_count": 109,
   "metadata": {},
   "outputs": [],
   "source": [
    "df.insert(5, 'TIMESTAMP', 0)"
   ]
  },
  {
   "cell_type": "code",
   "execution_count": 110,
   "metadata": {},
   "outputs": [],
   "source": [
    "date_format = \"%d%b%Y:%H:%M:%S\""
   ]
  },
  {
   "cell_type": "code",
   "execution_count": 111,
   "metadata": {},
   "outputs": [],
   "source": [
    "opd_sec: pd.Timestamp = pd.to_datetime(pd.to_datetime(df['OPD_DATE'], format=date_format), unit='s')"
   ]
  },
  {
   "cell_type": "code",
   "execution_count": 112,
   "metadata": {},
   "outputs": [],
   "source": [
    "td: pd.Timedelta = pd.to_timedelta(df['ACT_TIME'], unit='sec')"
   ]
  },
  {
   "cell_type": "code",
   "execution_count": 113,
   "metadata": {},
   "outputs": [],
   "source": [
    "df['TIMESTAMP'] = opd_sec + td\n",
    "test_more = df.loc[241350:241450]"
   ]
  },
  {
   "cell_type": "code",
   "execution_count": 114,
   "metadata": {},
   "outputs": [
    {
     "data": {
      "text/html": [
       "<div>\n",
       "<style scoped>\n",
       "    .dataframe tbody tr th:only-of-type {\n",
       "        vertical-align: middle;\n",
       "    }\n",
       "\n",
       "    .dataframe tbody tr th {\n",
       "        vertical-align: top;\n",
       "    }\n",
       "\n",
       "    .dataframe thead th {\n",
       "        text-align: right;\n",
       "    }\n",
       "</style>\n",
       "<table border=\"1\" class=\"dataframe\">\n",
       "  <thead>\n",
       "    <tr style=\"text-align: right;\">\n",
       "      <th></th>\n",
       "      <th>EVENT_NO_TRIP</th>\n",
       "      <th>EVENT_NO_STOP</th>\n",
       "      <th>OPD_DATE</th>\n",
       "      <th>VEHICLE_ID</th>\n",
       "      <th>METERS</th>\n",
       "      <th>TIMESTAMP</th>\n",
       "      <th>ACT_TIME</th>\n",
       "      <th>GPS_LONGITUDE</th>\n",
       "      <th>GPS_LATITUDE</th>\n",
       "    </tr>\n",
       "  </thead>\n",
       "  <tbody>\n",
       "    <tr>\n",
       "      <th>241350</th>\n",
       "      <td>218982530</td>\n",
       "      <td>218982540</td>\n",
       "      <td>13DEC2022:00:00:00</td>\n",
       "      <td>3754</td>\n",
       "      <td>90474</td>\n",
       "      <td>2022-12-13 22:23:41</td>\n",
       "      <td>80621</td>\n",
       "      <td>-122.668513</td>\n",
       "      <td>45.503967</td>\n",
       "    </tr>\n",
       "    <tr>\n",
       "      <th>241351</th>\n",
       "      <td>218982530</td>\n",
       "      <td>218982540</td>\n",
       "      <td>13DEC2022:00:00:00</td>\n",
       "      <td>3754</td>\n",
       "      <td>90532</td>\n",
       "      <td>2022-12-13 22:23:46</td>\n",
       "      <td>80626</td>\n",
       "      <td>-122.667967</td>\n",
       "      <td>45.504323</td>\n",
       "    </tr>\n",
       "    <tr>\n",
       "      <th>241352</th>\n",
       "      <td>218982530</td>\n",
       "      <td>218982540</td>\n",
       "      <td>13DEC2022:00:00:00</td>\n",
       "      <td>3754</td>\n",
       "      <td>90589</td>\n",
       "      <td>2022-12-13 22:23:51</td>\n",
       "      <td>80631</td>\n",
       "      <td>-122.667418</td>\n",
       "      <td>45.504682</td>\n",
       "    </tr>\n",
       "    <tr>\n",
       "      <th>241353</th>\n",
       "      <td>218982530</td>\n",
       "      <td>218982540</td>\n",
       "      <td>13DEC2022:00:00:00</td>\n",
       "      <td>3754</td>\n",
       "      <td>90648</td>\n",
       "      <td>2022-12-13 22:23:56</td>\n",
       "      <td>80636</td>\n",
       "      <td>-122.666855</td>\n",
       "      <td>45.505048</td>\n",
       "    </tr>\n",
       "    <tr>\n",
       "      <th>241354</th>\n",
       "      <td>218982530</td>\n",
       "      <td>218982540</td>\n",
       "      <td>13DEC2022:00:00:00</td>\n",
       "      <td>3754</td>\n",
       "      <td>90709</td>\n",
       "      <td>2022-12-13 22:24:01</td>\n",
       "      <td>80641</td>\n",
       "      <td>-122.666275</td>\n",
       "      <td>45.505427</td>\n",
       "    </tr>\n",
       "    <tr>\n",
       "      <th>...</th>\n",
       "      <td>...</td>\n",
       "      <td>...</td>\n",
       "      <td>...</td>\n",
       "      <td>...</td>\n",
       "      <td>...</td>\n",
       "      <td>...</td>\n",
       "      <td>...</td>\n",
       "      <td>...</td>\n",
       "      <td>...</td>\n",
       "    </tr>\n",
       "    <tr>\n",
       "      <th>241446</th>\n",
       "      <td>218982530</td>\n",
       "      <td>218982549</td>\n",
       "      <td>13DEC2022:00:00:00</td>\n",
       "      <td>3754</td>\n",
       "      <td>94663</td>\n",
       "      <td>2022-12-13 22:35:05</td>\n",
       "      <td>81305</td>\n",
       "      <td>-122.617293</td>\n",
       "      <td>45.505280</td>\n",
       "    </tr>\n",
       "    <tr>\n",
       "      <th>241447</th>\n",
       "      <td>218982530</td>\n",
       "      <td>218982550</td>\n",
       "      <td>13DEC2022:00:00:00</td>\n",
       "      <td>3754</td>\n",
       "      <td>94707</td>\n",
       "      <td>2022-12-13 22:35:10</td>\n",
       "      <td>81310</td>\n",
       "      <td>-122.616725</td>\n",
       "      <td>45.505282</td>\n",
       "    </tr>\n",
       "    <tr>\n",
       "      <th>241448</th>\n",
       "      <td>218982530</td>\n",
       "      <td>218982550</td>\n",
       "      <td>13DEC2022:00:00:00</td>\n",
       "      <td>3754</td>\n",
       "      <td>94755</td>\n",
       "      <td>2022-12-13 22:35:15</td>\n",
       "      <td>81315</td>\n",
       "      <td>-122.616100</td>\n",
       "      <td>45.505283</td>\n",
       "    </tr>\n",
       "    <tr>\n",
       "      <th>241449</th>\n",
       "      <td>218982530</td>\n",
       "      <td>218982550</td>\n",
       "      <td>13DEC2022:00:00:00</td>\n",
       "      <td>3754</td>\n",
       "      <td>94802</td>\n",
       "      <td>2022-12-13 22:35:20</td>\n",
       "      <td>81320</td>\n",
       "      <td>-122.615483</td>\n",
       "      <td>45.505288</td>\n",
       "    </tr>\n",
       "    <tr>\n",
       "      <th>241450</th>\n",
       "      <td>218982530</td>\n",
       "      <td>218982550</td>\n",
       "      <td>13DEC2022:00:00:00</td>\n",
       "      <td>3754</td>\n",
       "      <td>94852</td>\n",
       "      <td>2022-12-13 22:35:25</td>\n",
       "      <td>81325</td>\n",
       "      <td>-122.614835</td>\n",
       "      <td>45.505293</td>\n",
       "    </tr>\n",
       "  </tbody>\n",
       "</table>\n",
       "<p>101 rows × 9 columns</p>\n",
       "</div>"
      ],
      "text/plain": [
       "        EVENT_NO_TRIP  EVENT_NO_STOP            OPD_DATE  VEHICLE_ID  METERS  \\\n",
       "241350      218982530      218982540  13DEC2022:00:00:00        3754   90474   \n",
       "241351      218982530      218982540  13DEC2022:00:00:00        3754   90532   \n",
       "241352      218982530      218982540  13DEC2022:00:00:00        3754   90589   \n",
       "241353      218982530      218982540  13DEC2022:00:00:00        3754   90648   \n",
       "241354      218982530      218982540  13DEC2022:00:00:00        3754   90709   \n",
       "...               ...            ...                 ...         ...     ...   \n",
       "241446      218982530      218982549  13DEC2022:00:00:00        3754   94663   \n",
       "241447      218982530      218982550  13DEC2022:00:00:00        3754   94707   \n",
       "241448      218982530      218982550  13DEC2022:00:00:00        3754   94755   \n",
       "241449      218982530      218982550  13DEC2022:00:00:00        3754   94802   \n",
       "241450      218982530      218982550  13DEC2022:00:00:00        3754   94852   \n",
       "\n",
       "                 TIMESTAMP  ACT_TIME  GPS_LONGITUDE  GPS_LATITUDE  \n",
       "241350 2022-12-13 22:23:41     80621    -122.668513     45.503967  \n",
       "241351 2022-12-13 22:23:46     80626    -122.667967     45.504323  \n",
       "241352 2022-12-13 22:23:51     80631    -122.667418     45.504682  \n",
       "241353 2022-12-13 22:23:56     80636    -122.666855     45.505048  \n",
       "241354 2022-12-13 22:24:01     80641    -122.666275     45.505427  \n",
       "...                    ...       ...            ...           ...  \n",
       "241446 2022-12-13 22:35:05     81305    -122.617293     45.505280  \n",
       "241447 2022-12-13 22:35:10     81310    -122.616725     45.505282  \n",
       "241448 2022-12-13 22:35:15     81315    -122.616100     45.505283  \n",
       "241449 2022-12-13 22:35:20     81320    -122.615483     45.505288  \n",
       "241450 2022-12-13 22:35:25     81325    -122.614835     45.505293  \n",
       "\n",
       "[101 rows x 9 columns]"
      ]
     },
     "execution_count": 114,
     "metadata": {},
     "output_type": "execute_result"
    }
   ],
   "source": [
    "test_more"
   ]
  },
  {
   "cell_type": "code",
   "execution_count": 115,
   "metadata": {},
   "outputs": [
    {
     "data": {
      "text/html": [
       "<div>\n",
       "<style scoped>\n",
       "    .dataframe tbody tr th:only-of-type {\n",
       "        vertical-align: middle;\n",
       "    }\n",
       "\n",
       "    .dataframe tbody tr th {\n",
       "        vertical-align: top;\n",
       "    }\n",
       "\n",
       "    .dataframe thead th {\n",
       "        text-align: right;\n",
       "    }\n",
       "</style>\n",
       "<table border=\"1\" class=\"dataframe\">\n",
       "  <thead>\n",
       "    <tr style=\"text-align: right;\">\n",
       "      <th></th>\n",
       "      <th>EVENT_NO_TRIP</th>\n",
       "      <th>EVENT_NO_STOP</th>\n",
       "      <th>VEHICLE_ID</th>\n",
       "      <th>METERS</th>\n",
       "      <th>TIMESTAMP</th>\n",
       "      <th>GPS_LONGITUDE</th>\n",
       "      <th>GPS_LATITUDE</th>\n",
       "    </tr>\n",
       "  </thead>\n",
       "  <tbody>\n",
       "    <tr>\n",
       "      <th>0</th>\n",
       "      <td>219000623</td>\n",
       "      <td>219000624</td>\n",
       "      <td>2905</td>\n",
       "      <td>37</td>\n",
       "      <td>2022-12-13 06:18:00</td>\n",
       "      <td>-122.843617</td>\n",
       "      <td>45.504060</td>\n",
       "    </tr>\n",
       "    <tr>\n",
       "      <th>1</th>\n",
       "      <td>219000623</td>\n",
       "      <td>219000624</td>\n",
       "      <td>2905</td>\n",
       "      <td>47</td>\n",
       "      <td>2022-12-13 06:18:05</td>\n",
       "      <td>-122.843743</td>\n",
       "      <td>45.504095</td>\n",
       "    </tr>\n",
       "    <tr>\n",
       "      <th>2</th>\n",
       "      <td>219000623</td>\n",
       "      <td>219000624</td>\n",
       "      <td>2905</td>\n",
       "      <td>54</td>\n",
       "      <td>2022-12-13 06:18:10</td>\n",
       "      <td>-122.843828</td>\n",
       "      <td>45.504118</td>\n",
       "    </tr>\n",
       "    <tr>\n",
       "      <th>3</th>\n",
       "      <td>219000623</td>\n",
       "      <td>219000626</td>\n",
       "      <td>2905</td>\n",
       "      <td>181</td>\n",
       "      <td>2022-12-13 06:19:00</td>\n",
       "      <td>-122.843408</td>\n",
       "      <td>45.505170</td>\n",
       "    </tr>\n",
       "    <tr>\n",
       "      <th>4</th>\n",
       "      <td>219000623</td>\n",
       "      <td>219000626</td>\n",
       "      <td>2905</td>\n",
       "      <td>196</td>\n",
       "      <td>2022-12-13 06:19:05</td>\n",
       "      <td>-122.843285</td>\n",
       "      <td>45.505283</td>\n",
       "    </tr>\n",
       "  </tbody>\n",
       "</table>\n",
       "</div>"
      ],
      "text/plain": [
       "   EVENT_NO_TRIP  EVENT_NO_STOP  VEHICLE_ID  METERS           TIMESTAMP  \\\n",
       "0      219000623      219000624        2905      37 2022-12-13 06:18:00   \n",
       "1      219000623      219000624        2905      47 2022-12-13 06:18:05   \n",
       "2      219000623      219000624        2905      54 2022-12-13 06:18:10   \n",
       "3      219000623      219000626        2905     181 2022-12-13 06:19:00   \n",
       "4      219000623      219000626        2905     196 2022-12-13 06:19:05   \n",
       "\n",
       "   GPS_LONGITUDE  GPS_LATITUDE  \n",
       "0    -122.843617     45.504060  \n",
       "1    -122.843743     45.504095  \n",
       "2    -122.843828     45.504118  \n",
       "3    -122.843408     45.505170  \n",
       "4    -122.843285     45.505283  "
      ]
     },
     "execution_count": 115,
     "metadata": {},
     "output_type": "execute_result"
    }
   ],
   "source": [
    "df.drop(columns=['OPD_DATE', 'ACT_TIME'], inplace=True)\n",
    "\n",
    "df.head()"
   ]
  },
  {
   "cell_type": "code",
   "execution_count": 116,
   "metadata": {},
   "outputs": [
    {
     "data": {
      "text/html": [
       "<div>\n",
       "<style scoped>\n",
       "    .dataframe tbody tr th:only-of-type {\n",
       "        vertical-align: middle;\n",
       "    }\n",
       "\n",
       "    .dataframe tbody tr th {\n",
       "        vertical-align: top;\n",
       "    }\n",
       "\n",
       "    .dataframe thead th {\n",
       "        text-align: right;\n",
       "    }\n",
       "</style>\n",
       "<table border=\"1\" class=\"dataframe\">\n",
       "  <thead>\n",
       "    <tr style=\"text-align: right;\">\n",
       "      <th></th>\n",
       "      <th>EVENT_NO_TRIP</th>\n",
       "      <th>EVENT_NO_STOP</th>\n",
       "      <th>VEHICLE_ID</th>\n",
       "      <th>METERS</th>\n",
       "      <th>dTIMESTAMP</th>\n",
       "      <th>dMETERS</th>\n",
       "      <th>SPEED</th>\n",
       "      <th>TIMESTAMP</th>\n",
       "      <th>GPS_LONGITUDE</th>\n",
       "      <th>GPS_LATITUDE</th>\n",
       "    </tr>\n",
       "  </thead>\n",
       "  <tbody>\n",
       "    <tr>\n",
       "      <th>0</th>\n",
       "      <td>219000623</td>\n",
       "      <td>219000624</td>\n",
       "      <td>2905</td>\n",
       "      <td>37</td>\n",
       "      <td>NaT</td>\n",
       "      <td>NaN</td>\n",
       "      <td>0</td>\n",
       "      <td>2022-12-13 06:18:00</td>\n",
       "      <td>-122.843617</td>\n",
       "      <td>45.504060</td>\n",
       "    </tr>\n",
       "    <tr>\n",
       "      <th>1</th>\n",
       "      <td>219000623</td>\n",
       "      <td>219000624</td>\n",
       "      <td>2905</td>\n",
       "      <td>47</td>\n",
       "      <td>0 days 00:00:05</td>\n",
       "      <td>10.0</td>\n",
       "      <td>0</td>\n",
       "      <td>2022-12-13 06:18:05</td>\n",
       "      <td>-122.843743</td>\n",
       "      <td>45.504095</td>\n",
       "    </tr>\n",
       "    <tr>\n",
       "      <th>2</th>\n",
       "      <td>219000623</td>\n",
       "      <td>219000624</td>\n",
       "      <td>2905</td>\n",
       "      <td>54</td>\n",
       "      <td>0 days 00:00:05</td>\n",
       "      <td>7.0</td>\n",
       "      <td>0</td>\n",
       "      <td>2022-12-13 06:18:10</td>\n",
       "      <td>-122.843828</td>\n",
       "      <td>45.504118</td>\n",
       "    </tr>\n",
       "    <tr>\n",
       "      <th>3</th>\n",
       "      <td>219000623</td>\n",
       "      <td>219000626</td>\n",
       "      <td>2905</td>\n",
       "      <td>181</td>\n",
       "      <td>0 days 00:00:50</td>\n",
       "      <td>127.0</td>\n",
       "      <td>0</td>\n",
       "      <td>2022-12-13 06:19:00</td>\n",
       "      <td>-122.843408</td>\n",
       "      <td>45.505170</td>\n",
       "    </tr>\n",
       "    <tr>\n",
       "      <th>4</th>\n",
       "      <td>219000623</td>\n",
       "      <td>219000626</td>\n",
       "      <td>2905</td>\n",
       "      <td>196</td>\n",
       "      <td>0 days 00:00:05</td>\n",
       "      <td>15.0</td>\n",
       "      <td>0</td>\n",
       "      <td>2022-12-13 06:19:05</td>\n",
       "      <td>-122.843285</td>\n",
       "      <td>45.505283</td>\n",
       "    </tr>\n",
       "  </tbody>\n",
       "</table>\n",
       "</div>"
      ],
      "text/plain": [
       "   EVENT_NO_TRIP  EVENT_NO_STOP  VEHICLE_ID  METERS      dTIMESTAMP  dMETERS  \\\n",
       "0      219000623      219000624        2905      37             NaT      NaN   \n",
       "1      219000623      219000624        2905      47 0 days 00:00:05     10.0   \n",
       "2      219000623      219000624        2905      54 0 days 00:00:05      7.0   \n",
       "3      219000623      219000626        2905     181 0 days 00:00:50    127.0   \n",
       "4      219000623      219000626        2905     196 0 days 00:00:05     15.0   \n",
       "\n",
       "   SPEED           TIMESTAMP  GPS_LONGITUDE  GPS_LATITUDE  \n",
       "0      0 2022-12-13 06:18:00    -122.843617     45.504060  \n",
       "1      0 2022-12-13 06:18:05    -122.843743     45.504095  \n",
       "2      0 2022-12-13 06:18:10    -122.843828     45.504118  \n",
       "3      0 2022-12-13 06:19:00    -122.843408     45.505170  \n",
       "4      0 2022-12-13 06:19:05    -122.843285     45.505283  "
      ]
     },
     "execution_count": 116,
     "metadata": {},
     "output_type": "execute_result"
    }
   ],
   "source": [
    "df.insert(4, 'SPEED', 0)\n",
    "df.insert(4, 'dMETERS', df['METERS'].diff())\n",
    "df.insert(4, 'dTIMESTAMP', df['TIMESTAMP'].diff())\n",
    "df.head()\n"
   ]
  },
  {
   "cell_type": "code",
   "execution_count": 117,
   "metadata": {},
   "outputs": [],
   "source": [
    "df['SPEED'] = df.apply((lambda df: df['dMETERS']/df['dTIMESTAMP'].total_seconds()), axis=1)\n",
    "df.drop(columns=['dTIMESTAMP', 'dMETERS'], inplace=True)\n"
   ]
  },
  {
   "cell_type": "code",
   "execution_count": 118,
   "metadata": {},
   "outputs": [],
   "source": [
    "df.head()\n",
    "other_new = df.loc[241350:241450]"
   ]
  },
  {
   "cell_type": "code",
   "execution_count": 119,
   "metadata": {},
   "outputs": [],
   "source": [
    "vid_list = df['VEHICLE_ID'].drop_duplicates(keep='first').tolist()\n",
    "\n",
    "modified_index = 0\n",
    "for id in vid_list:\n",
    "    curr_data = df[df['VEHICLE_ID'] == id]\n",
    "    curr_data.loc[modified_index, 'SPEED'] = curr_data.loc[modified_index+1, 'SPEED']\n",
    "    df[df['VEHICLE_ID'] == id] = curr_data\n",
    "    modified_index += curr_data.shape[0]\n",
    "    \n",
    "    "
   ]
  },
  {
   "cell_type": "code",
   "execution_count": 120,
   "metadata": {},
   "outputs": [
    {
     "data": {
      "text/html": [
       "<div>\n",
       "<style scoped>\n",
       "    .dataframe tbody tr th:only-of-type {\n",
       "        vertical-align: middle;\n",
       "    }\n",
       "\n",
       "    .dataframe tbody tr th {\n",
       "        vertical-align: top;\n",
       "    }\n",
       "\n",
       "    .dataframe thead th {\n",
       "        text-align: right;\n",
       "    }\n",
       "</style>\n",
       "<table border=\"1\" class=\"dataframe\">\n",
       "  <thead>\n",
       "    <tr style=\"text-align: right;\">\n",
       "      <th></th>\n",
       "      <th>EVENT_NO_TRIP</th>\n",
       "      <th>EVENT_NO_STOP</th>\n",
       "      <th>VEHICLE_ID</th>\n",
       "      <th>METERS</th>\n",
       "      <th>SPEED</th>\n",
       "      <th>TIMESTAMP</th>\n",
       "      <th>GPS_LONGITUDE</th>\n",
       "      <th>GPS_LATITUDE</th>\n",
       "    </tr>\n",
       "  </thead>\n",
       "  <tbody>\n",
       "    <tr>\n",
       "      <th>0</th>\n",
       "      <td>219000623</td>\n",
       "      <td>219000624</td>\n",
       "      <td>2905</td>\n",
       "      <td>37</td>\n",
       "      <td>2.00</td>\n",
       "      <td>2022-12-13 06:18:00</td>\n",
       "      <td>-122.843617</td>\n",
       "      <td>45.504060</td>\n",
       "    </tr>\n",
       "    <tr>\n",
       "      <th>1</th>\n",
       "      <td>219000623</td>\n",
       "      <td>219000624</td>\n",
       "      <td>2905</td>\n",
       "      <td>47</td>\n",
       "      <td>2.00</td>\n",
       "      <td>2022-12-13 06:18:05</td>\n",
       "      <td>-122.843743</td>\n",
       "      <td>45.504095</td>\n",
       "    </tr>\n",
       "    <tr>\n",
       "      <th>2</th>\n",
       "      <td>219000623</td>\n",
       "      <td>219000624</td>\n",
       "      <td>2905</td>\n",
       "      <td>54</td>\n",
       "      <td>1.40</td>\n",
       "      <td>2022-12-13 06:18:10</td>\n",
       "      <td>-122.843828</td>\n",
       "      <td>45.504118</td>\n",
       "    </tr>\n",
       "    <tr>\n",
       "      <th>3</th>\n",
       "      <td>219000623</td>\n",
       "      <td>219000626</td>\n",
       "      <td>2905</td>\n",
       "      <td>181</td>\n",
       "      <td>2.54</td>\n",
       "      <td>2022-12-13 06:19:00</td>\n",
       "      <td>-122.843408</td>\n",
       "      <td>45.505170</td>\n",
       "    </tr>\n",
       "    <tr>\n",
       "      <th>4</th>\n",
       "      <td>219000623</td>\n",
       "      <td>219000626</td>\n",
       "      <td>2905</td>\n",
       "      <td>196</td>\n",
       "      <td>3.00</td>\n",
       "      <td>2022-12-13 06:19:05</td>\n",
       "      <td>-122.843285</td>\n",
       "      <td>45.505283</td>\n",
       "    </tr>\n",
       "  </tbody>\n",
       "</table>\n",
       "</div>"
      ],
      "text/plain": [
       "   EVENT_NO_TRIP  EVENT_NO_STOP  VEHICLE_ID  METERS  SPEED  \\\n",
       "0      219000623      219000624        2905      37   2.00   \n",
       "1      219000623      219000624        2905      47   2.00   \n",
       "2      219000623      219000624        2905      54   1.40   \n",
       "3      219000623      219000626        2905     181   2.54   \n",
       "4      219000623      219000626        2905     196   3.00   \n",
       "\n",
       "            TIMESTAMP  GPS_LONGITUDE  GPS_LATITUDE  \n",
       "0 2022-12-13 06:18:00    -122.843617     45.504060  \n",
       "1 2022-12-13 06:18:05    -122.843743     45.504095  \n",
       "2 2022-12-13 06:18:10    -122.843828     45.504118  \n",
       "3 2022-12-13 06:19:00    -122.843408     45.505170  \n",
       "4 2022-12-13 06:19:05    -122.843285     45.505283  "
      ]
     },
     "execution_count": 120,
     "metadata": {},
     "output_type": "execute_result"
    }
   ],
   "source": [
    "df.head()"
   ]
  },
  {
   "cell_type": "code",
   "execution_count": 121,
   "metadata": {},
   "outputs": [],
   "source": [
    "kmh_data = df[\"SPEED\"] * 3.6\n",
    "df['SPEED'] = kmh_data\n",
    "df = df[df[\"SPEED\"] < (160 / 3.6)]"
   ]
  }
 ],
 "metadata": {
  "kernelspec": {
   "display_name": ".venv",
   "language": "python",
   "name": "python3"
  },
  "language_info": {
   "codemirror_mode": {
    "name": "ipython",
    "version": 3
   },
   "file_extension": ".py",
   "mimetype": "text/x-python",
   "name": "python",
   "nbconvert_exporter": "python",
   "pygments_lexer": "ipython3",
   "version": "3.10.12"
  }
 },
 "nbformat": 4,
 "nbformat_minor": 2
}
