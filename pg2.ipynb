{
 "cells": [
  {
   "cell_type": "code",
   "execution_count": 63,
   "metadata": {},
   "outputs": [],
   "source": [
    "from src.subpipe.validate import ValidateBusData\n",
    "import logging, os, sys, json\n",
    "import pandas as pd\n",
    "\n",
    "from src.utils.utils import (\n",
    "    DATA_MONTH_DAY,\n",
    "    SUBSCRIBER_DATA_PATH_JSON,\n",
    "    SUBSCRIBER_FOLDER,\n",
    "    curr_time_micro,\n",
    "    sub_logger,\n",
    "    lat_long_filler\n",
    ")\n",
    "\n",
    "logging.basicConfig(\n",
    "        format=\"\",\n",
    "        filename=f\"logs/notebook-{DATA_MONTH_DAY}.log\",\n",
    "        encoding=\"utf-8\",\n",
    "        filemode=\"a\",\n",
    "        level=logging.INFO,\n",
    ")"
   ]
  },
  {
   "cell_type": "markdown",
   "metadata": {},
   "source": [
    "# Code For Transform"
   ]
  },
  {
   "cell_type": "code",
   "execution_count": 64,
   "metadata": {},
   "outputs": [
    {
     "data": {
      "text/plain": [
       "2953540"
      ]
     },
     "execution_count": 64,
     "metadata": {},
     "output_type": "execute_result"
    }
   ],
   "source": [
    "df = pd.read_json(os.path.join(SUBSCRIBER_FOLDER, \"04-12.json\"))\n",
    "df.size"
   ]
  },
  {
   "cell_type": "code",
   "execution_count": 65,
   "metadata": {},
   "outputs": [
    {
     "data": {
      "text/plain": [
       "2953540"
      ]
     },
     "execution_count": 65,
     "metadata": {},
     "output_type": "execute_result"
    }
   ],
   "source": [
    "df = df.sort_values([\"VEHICLE_ID\", \"ACT_TIME\"], ascending=True)\n",
    "df.size"
   ]
  },
  {
   "cell_type": "code",
   "execution_count": 66,
   "metadata": {},
   "outputs": [
    {
     "data": {
      "text/plain": [
       "2952180"
      ]
     },
     "execution_count": 66,
     "metadata": {},
     "output_type": "execute_result"
    }
   ],
   "source": [
    "df = df.dropna()\n",
    "df.size"
   ]
  },
  {
   "cell_type": "code",
   "execution_count": 67,
   "metadata": {},
   "outputs": [
    {
     "data": {
      "text/plain": [
       "3247398"
      ]
     },
     "execution_count": 67,
     "metadata": {},
     "output_type": "execute_result"
    }
   ],
   "source": [
    "df = df.reset_index(level=0)\n",
    "df.size"
   ]
  },
  {
   "cell_type": "code",
   "execution_count": 68,
   "metadata": {},
   "outputs": [
    {
     "data": {
      "text/plain": [
       "2952180"
      ]
     },
     "execution_count": 68,
     "metadata": {},
     "output_type": "execute_result"
    }
   ],
   "source": [
    "df = df.drop(columns=['index'])\n",
    "df.size"
   ]
  },
  {
   "cell_type": "code",
   "execution_count": 69,
   "metadata": {},
   "outputs": [],
   "source": [
    "df.insert(5, 'TIMESTAMP', 0)"
   ]
  },
  {
   "cell_type": "code",
   "execution_count": 70,
   "metadata": {},
   "outputs": [],
   "source": [
    "date_format = \"%d%b%Y:%H:%M:%S\""
   ]
  },
  {
   "cell_type": "code",
   "execution_count": 71,
   "metadata": {},
   "outputs": [],
   "source": [
    "opd_sec: pd.Timestamp = pd.to_datetime(pd.to_datetime(df['OPD_DATE'], format=date_format), unit='s')"
   ]
  },
  {
   "cell_type": "code",
   "execution_count": 72,
   "metadata": {},
   "outputs": [],
   "source": [
    "td: pd.Timedelta = pd.to_timedelta(df['ACT_TIME'], unit='sec')"
   ]
  },
  {
   "cell_type": "code",
   "execution_count": 73,
   "metadata": {},
   "outputs": [
    {
     "data": {
      "text/html": [
       "<div>\n",
       "<style scoped>\n",
       "    .dataframe tbody tr th:only-of-type {\n",
       "        vertical-align: middle;\n",
       "    }\n",
       "\n",
       "    .dataframe tbody tr th {\n",
       "        vertical-align: top;\n",
       "    }\n",
       "\n",
       "    .dataframe thead th {\n",
       "        text-align: right;\n",
       "    }\n",
       "</style>\n",
       "<table border=\"1\" class=\"dataframe\">\n",
       "  <thead>\n",
       "    <tr style=\"text-align: right;\">\n",
       "      <th></th>\n",
       "      <th>EVENT_NO_TRIP</th>\n",
       "      <th>EVENT_NO_STOP</th>\n",
       "      <th>OPD_DATE</th>\n",
       "      <th>VEHICLE_ID</th>\n",
       "      <th>METERS</th>\n",
       "      <th>TIMESTAMP</th>\n",
       "      <th>ACT_TIME</th>\n",
       "      <th>GPS_LONGITUDE</th>\n",
       "      <th>GPS_LATITUDE</th>\n",
       "      <th>GPS_SATELLITES</th>\n",
       "      <th>GPS_HDOP</th>\n",
       "    </tr>\n",
       "  </thead>\n",
       "  <tbody>\n",
       "    <tr>\n",
       "      <th>0</th>\n",
       "      <td>219000623</td>\n",
       "      <td>219000624</td>\n",
       "      <td>13DEC2022:00:00:00</td>\n",
       "      <td>2905</td>\n",
       "      <td>37</td>\n",
       "      <td>2022-12-13 06:18:00</td>\n",
       "      <td>22680</td>\n",
       "      <td>-122.843617</td>\n",
       "      <td>45.504060</td>\n",
       "      <td>12</td>\n",
       "      <td>0.8</td>\n",
       "    </tr>\n",
       "    <tr>\n",
       "      <th>1</th>\n",
       "      <td>219000623</td>\n",
       "      <td>219000624</td>\n",
       "      <td>13DEC2022:00:00:00</td>\n",
       "      <td>2905</td>\n",
       "      <td>47</td>\n",
       "      <td>2022-12-13 06:18:05</td>\n",
       "      <td>22685</td>\n",
       "      <td>-122.843743</td>\n",
       "      <td>45.504095</td>\n",
       "      <td>12</td>\n",
       "      <td>0.8</td>\n",
       "    </tr>\n",
       "    <tr>\n",
       "      <th>2</th>\n",
       "      <td>219000623</td>\n",
       "      <td>219000624</td>\n",
       "      <td>13DEC2022:00:00:00</td>\n",
       "      <td>2905</td>\n",
       "      <td>54</td>\n",
       "      <td>2022-12-13 06:18:10</td>\n",
       "      <td>22690</td>\n",
       "      <td>-122.843828</td>\n",
       "      <td>45.504118</td>\n",
       "      <td>12</td>\n",
       "      <td>0.8</td>\n",
       "    </tr>\n",
       "    <tr>\n",
       "      <th>3</th>\n",
       "      <td>219000623</td>\n",
       "      <td>219000626</td>\n",
       "      <td>13DEC2022:00:00:00</td>\n",
       "      <td>2905</td>\n",
       "      <td>181</td>\n",
       "      <td>2022-12-13 06:19:00</td>\n",
       "      <td>22740</td>\n",
       "      <td>-122.843408</td>\n",
       "      <td>45.505170</td>\n",
       "      <td>12</td>\n",
       "      <td>0.8</td>\n",
       "    </tr>\n",
       "    <tr>\n",
       "      <th>4</th>\n",
       "      <td>219000623</td>\n",
       "      <td>219000626</td>\n",
       "      <td>13DEC2022:00:00:00</td>\n",
       "      <td>2905</td>\n",
       "      <td>196</td>\n",
       "      <td>2022-12-13 06:19:05</td>\n",
       "      <td>22745</td>\n",
       "      <td>-122.843285</td>\n",
       "      <td>45.505283</td>\n",
       "      <td>11</td>\n",
       "      <td>0.9</td>\n",
       "    </tr>\n",
       "  </tbody>\n",
       "</table>\n",
       "</div>"
      ],
      "text/plain": [
       "   EVENT_NO_TRIP  EVENT_NO_STOP            OPD_DATE  VEHICLE_ID  METERS  \\\n",
       "0      219000623      219000624  13DEC2022:00:00:00        2905      37   \n",
       "1      219000623      219000624  13DEC2022:00:00:00        2905      47   \n",
       "2      219000623      219000624  13DEC2022:00:00:00        2905      54   \n",
       "3      219000623      219000626  13DEC2022:00:00:00        2905     181   \n",
       "4      219000623      219000626  13DEC2022:00:00:00        2905     196   \n",
       "\n",
       "            TIMESTAMP  ACT_TIME  GPS_LONGITUDE  GPS_LATITUDE  GPS_SATELLITES  \\\n",
       "0 2022-12-13 06:18:00     22680    -122.843617     45.504060              12   \n",
       "1 2022-12-13 06:18:05     22685    -122.843743     45.504095              12   \n",
       "2 2022-12-13 06:18:10     22690    -122.843828     45.504118              12   \n",
       "3 2022-12-13 06:19:00     22740    -122.843408     45.505170              12   \n",
       "4 2022-12-13 06:19:05     22745    -122.843285     45.505283              11   \n",
       "\n",
       "   GPS_HDOP  \n",
       "0       0.8  \n",
       "1       0.8  \n",
       "2       0.8  \n",
       "3       0.8  \n",
       "4       0.9  "
      ]
     },
     "execution_count": 73,
     "metadata": {},
     "output_type": "execute_result"
    }
   ],
   "source": [
    "df['TIMESTAMP'] = opd_sec + td\n",
    "df.head()\n"
   ]
  },
  {
   "cell_type": "markdown",
   "metadata": {},
   "source": [
    "# Skip this. Save it for a challenge later. Trying to find all lat and long missing and approximating it"
   ]
  },
  {
   "cell_type": "code",
   "execution_count": 75,
   "metadata": {},
   "outputs": [],
   "source": [
    "# na_gps_rows = df[(df['GPS_LONGITUDE'].isna()) | (df['GPS_LATITUDE'].isna())]\n",
    "# vid_list_nans = na_gps_rows['VEHICLE_ID'].drop_duplicates(keep='first').tolist()"
   ]
  },
  {
   "cell_type": "code",
   "execution_count": 76,
   "metadata": {},
   "outputs": [],
   "source": [
    "# def fill_lat_long(row):\n",
    "#     if pd.isna(row['GPS_LATITUDE']) or pd.isna(row['GPS_LONGITUDE']):\n",
    "#         prev_lat = df.at[row.name - 1, 'GPS_LATITUDE']\n",
    "#         prev_long = df.at[row.name - 1, 'GPS_LONGITUDE']\n",
    "#         a_distance = df.at[row.name - 1, 'METERS']\n",
    "#         b_distance = row['METERS']\n",
    "        \n",
    "#         filled_lat, filled_long = lat_long_filler((prev_lat, prev_long), a_distance, b_distance)\n",
    "#         return pd.Series({'GPS_LATITUDE': filled_lat, 'GPS_LONGITUDE': filled_long})\n",
    "#     else:\n",
    "#         return row[['GPS_LATITUDE', 'GPS_LONGITUDE']]"
   ]
  },
  {
   "cell_type": "code",
   "execution_count": 77,
   "metadata": {},
   "outputs": [],
   "source": [
    "# for id in vid_list_nans:\n",
    "#     cur_vid_rows = df[df['VEHICLE_ID'] == id]\n",
    "#     if (cur_vid_rows['GPS_LATITUDE'].isna().any()) or (cur_vid_rows['GPS_LONGITUDE'].isna().any()):\n",
    "#         caught_series = cur_vid_rows.apply(fill_lat_long, axis=1)\n",
    "#         df[df['VEHICLE_ID'] == id] = caught_series"
   ]
  }
 ],
 "metadata": {
  "kernelspec": {
   "display_name": ".venv",
   "language": "python",
   "name": "python3"
  },
  "language_info": {
   "codemirror_mode": {
    "name": "ipython",
    "version": 3
   },
   "file_extension": ".py",
   "mimetype": "text/x-python",
   "name": "python",
   "nbconvert_exporter": "python",
   "pygments_lexer": "ipython3",
   "version": "3.10.12"
  }
 },
 "nbformat": 4,
 "nbformat_minor": 2
}
