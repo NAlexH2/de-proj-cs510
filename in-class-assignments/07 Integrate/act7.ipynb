{
 "cells": [
  {
   "cell_type": "code",
   "execution_count": 37,
   "metadata": {},
   "outputs": [],
   "source": [
    "import pandas as pd"
   ]
  },
  {
   "cell_type": "code",
   "execution_count": 38,
   "metadata": {},
   "outputs": [],
   "source": [
    "census_df = pd.read_csv(\"./acs2017_census_tract_data.csv\", \n",
    "                        usecols=['County', 'State', 'TotalPop', \n",
    "                                 'Poverty', 'IncomePerCap', 'TractId'])\n",
    "covid_df = pd.read_csv(\"./COVID_county_data.csv\", usecols=['date','cases','deaths'])\n",
    "\n",
    "census_renamer = {\n",
    "    \"County\": \"Name\",\n",
    "    \"TotalPop\": \"Population\",\n",
    "    \"IncomePerCap\": \"PerCapitaIncome\",\n",
    "    \"TractID\": \"ID\",\n",
    "}\n",
    "\n",
    "covid_renamer = {\n",
    "    \"date\": \"Month\",\n",
    "    \"cases\": \"Cases\",\n",
    "    \"deaths\": \"Deaths\",\n",
    "}"
   ]
  },
  {
   "cell_type": "code",
   "execution_count": 39,
   "metadata": {},
   "outputs": [],
   "source": [
    "census_df = census_df.rename(columns=census_renamer)\n",
    "covid_df = covid_df.rename(columns=covid_renamer)"
   ]
  },
  {
   "cell_type": "code",
   "execution_count": 40,
   "metadata": {},
   "outputs": [
    {
     "name": "stdout",
     "output_type": "stream",
     "text": [
      "Index(['TractId', 'State', 'Name', 'Population', 'PerCapitaIncome', 'Poverty'], dtype='object')\n",
      "Index(['Month', 'Cases', 'Deaths'], dtype='object')\n"
     ]
    }
   ],
   "source": [
    "print(census_df.columns)\n",
    "print(covid_df.columns)"
   ]
  },
  {
   "cell_type": "code",
   "execution_count": 96,
   "metadata": {},
   "outputs": [
    {
     "data": {
      "text/html": [
       "<div>\n",
       "<style scoped>\n",
       "    .dataframe tbody tr th:only-of-type {\n",
       "        vertical-align: middle;\n",
       "    }\n",
       "\n",
       "    .dataframe tbody tr th {\n",
       "        vertical-align: top;\n",
       "    }\n",
       "\n",
       "    .dataframe thead th {\n",
       "        text-align: right;\n",
       "    }\n",
       "</style>\n",
       "<table border=\"1\" class=\"dataframe\">\n",
       "  <thead>\n",
       "    <tr style=\"text-align: right;\">\n",
       "      <th></th>\n",
       "      <th>TractId</th>\n",
       "      <th>State</th>\n",
       "      <th>Name</th>\n",
       "      <th>Population</th>\n",
       "      <th>PerCapitaIncome</th>\n",
       "      <th>Poverty</th>\n",
       "    </tr>\n",
       "  </thead>\n",
       "  <tbody>\n",
       "    <tr>\n",
       "      <th>0</th>\n",
       "      <td>1001020100</td>\n",
       "      <td>Alabama</td>\n",
       "      <td>Autauga County</td>\n",
       "      <td>1845</td>\n",
       "      <td>33018.0</td>\n",
       "      <td>10.7</td>\n",
       "    </tr>\n",
       "    <tr>\n",
       "      <th>1</th>\n",
       "      <td>1001020200</td>\n",
       "      <td>Alabama</td>\n",
       "      <td>Autauga County</td>\n",
       "      <td>2172</td>\n",
       "      <td>18996.0</td>\n",
       "      <td>22.4</td>\n",
       "    </tr>\n",
       "  </tbody>\n",
       "</table>\n",
       "</div>"
      ],
      "text/plain": [
       "      TractId    State            Name  Population  PerCapitaIncome  Poverty\n",
       "0  1001020100  Alabama  Autauga County        1845          33018.0     10.7\n",
       "1  1001020200  Alabama  Autauga County        2172          18996.0     22.4"
      ]
     },
     "execution_count": 96,
     "metadata": {},
     "output_type": "execute_result"
    }
   ],
   "source": [
    "census_df.head(2)"
   ]
  },
  {
   "cell_type": "code",
   "execution_count": 77,
   "metadata": {},
   "outputs": [],
   "source": [
    "census_list = census_df[[\"Name\", \"State\"]].copy()\n",
    "county_info = census_df.groupby(['Name', 'State'])['Population'].sum().reset_index().sort_values(by=['State', 'Name'])\n",
    "county_info = county_info.reset_index().drop(columns=['index'])\n",
    "\n"
   ]
  },
  {
   "cell_type": "code",
   "execution_count": 97,
   "metadata": {},
   "outputs": [],
   "source": [
    "poverty_group = census_df.groupby(['Name', 'State'])['Poverty'].sum().reset_index().sort_values(by=['State', 'Name'])\n",
    "county_entry_count = census_df.groupby(['Name', 'State']).size().reset_index(name='EntryCount').sort_values(by=['State', 'Name'])\n",
    "poverty_group['Poverty'] /= county_entry_count['EntryCount']\n",
    "poverty_group = poverty_group.reset_index().drop(columns=['index'])"
   ]
  },
  {
   "cell_type": "code",
   "execution_count": 106,
   "metadata": {},
   "outputs": [],
   "source": [
    "percap_group = census_df.groupby(['Name', 'State'])['PerCapitaIncome'].sum().reset_index().sort_values(by=['State', 'Name'])\n",
    "per_cap_entry = census_df.groupby(['Name', 'State']).size().reset_index(name='PerCapEntry').sort_values(by=['State', 'Name'])\n",
    "percap_group['PerCapitaIncome'] /= per_cap_entry['PerCapEntry']\n",
    "percap_group = percap_group.reset_index().drop(columns=['index'])"
   ]
  },
  {
   "cell_type": "code",
   "execution_count": 110,
   "metadata": {},
   "outputs": [],
   "source": [
    "county_info['Poverty'] = poverty_group['Poverty']\n",
    "county_info['PerCapitaIncome'] = percap_group['PerCapitaIncome']"
   ]
  },
  {
   "cell_type": "code",
   "execution_count": 111,
   "metadata": {},
   "outputs": [
    {
     "data": {
      "text/html": [
       "<div>\n",
       "<style scoped>\n",
       "    .dataframe tbody tr th:only-of-type {\n",
       "        vertical-align: middle;\n",
       "    }\n",
       "\n",
       "    .dataframe tbody tr th {\n",
       "        vertical-align: top;\n",
       "    }\n",
       "\n",
       "    .dataframe thead th {\n",
       "        text-align: right;\n",
       "    }\n",
       "</style>\n",
       "<table border=\"1\" class=\"dataframe\">\n",
       "  <thead>\n",
       "    <tr style=\"text-align: right;\">\n",
       "      <th></th>\n",
       "      <th>Name</th>\n",
       "      <th>State</th>\n",
       "      <th>Population</th>\n",
       "      <th>Poverty</th>\n",
       "      <th>PerCapitaIncome</th>\n",
       "    </tr>\n",
       "  </thead>\n",
       "  <tbody>\n",
       "    <tr>\n",
       "      <th>0</th>\n",
       "      <td>Autauga County</td>\n",
       "      <td>Alabama</td>\n",
       "      <td>55036</td>\n",
       "      <td>14.558333</td>\n",
       "      <td>26588.166667</td>\n",
       "    </tr>\n",
       "    <tr>\n",
       "      <th>1</th>\n",
       "      <td>Baldwin County</td>\n",
       "      <td>Alabama</td>\n",
       "      <td>203360</td>\n",
       "      <td>12.471875</td>\n",
       "      <td>28220.375000</td>\n",
       "    </tr>\n",
       "    <tr>\n",
       "      <th>2</th>\n",
       "      <td>Barbour County</td>\n",
       "      <td>Alabama</td>\n",
       "      <td>26201</td>\n",
       "      <td>27.755556</td>\n",
       "      <td>17891.666667</td>\n",
       "    </tr>\n",
       "    <tr>\n",
       "      <th>3</th>\n",
       "      <td>Bibb County</td>\n",
       "      <td>Alabama</td>\n",
       "      <td>22580</td>\n",
       "      <td>13.925000</td>\n",
       "      <td>21799.000000</td>\n",
       "    </tr>\n",
       "    <tr>\n",
       "      <th>4</th>\n",
       "      <td>Blount County</td>\n",
       "      <td>Alabama</td>\n",
       "      <td>57667</td>\n",
       "      <td>16.422222</td>\n",
       "      <td>21598.444444</td>\n",
       "    </tr>\n",
       "    <tr>\n",
       "      <th>...</th>\n",
       "      <td>...</td>\n",
       "      <td>...</td>\n",
       "      <td>...</td>\n",
       "      <td>...</td>\n",
       "      <td>...</td>\n",
       "    </tr>\n",
       "    <tr>\n",
       "      <th>3215</th>\n",
       "      <td>Sweetwater County</td>\n",
       "      <td>Wyoming</td>\n",
       "      <td>44527</td>\n",
       "      <td>11.691667</td>\n",
       "      <td>32898.083333</td>\n",
       "    </tr>\n",
       "    <tr>\n",
       "      <th>3216</th>\n",
       "      <td>Teton County</td>\n",
       "      <td>Wyoming</td>\n",
       "      <td>22923</td>\n",
       "      <td>7.550000</td>\n",
       "      <td>47706.250000</td>\n",
       "    </tr>\n",
       "    <tr>\n",
       "      <th>3217</th>\n",
       "      <td>Uinta County</td>\n",
       "      <td>Wyoming</td>\n",
       "      <td>20758</td>\n",
       "      <td>14.733333</td>\n",
       "      <td>27086.000000</td>\n",
       "    </tr>\n",
       "    <tr>\n",
       "      <th>3218</th>\n",
       "      <td>Washakie County</td>\n",
       "      <td>Wyoming</td>\n",
       "      <td>8253</td>\n",
       "      <td>13.066667</td>\n",
       "      <td>26828.333333</td>\n",
       "    </tr>\n",
       "    <tr>\n",
       "      <th>3219</th>\n",
       "      <td>Weston County</td>\n",
       "      <td>Wyoming</td>\n",
       "      <td>7117</td>\n",
       "      <td>14.200000</td>\n",
       "      <td>31058.500000</td>\n",
       "    </tr>\n",
       "  </tbody>\n",
       "</table>\n",
       "<p>3220 rows × 5 columns</p>\n",
       "</div>"
      ],
      "text/plain": [
       "                   Name    State  Population    Poverty  PerCapitaIncome\n",
       "0        Autauga County  Alabama       55036  14.558333     26588.166667\n",
       "1        Baldwin County  Alabama      203360  12.471875     28220.375000\n",
       "2        Barbour County  Alabama       26201  27.755556     17891.666667\n",
       "3           Bibb County  Alabama       22580  13.925000     21799.000000\n",
       "4         Blount County  Alabama       57667  16.422222     21598.444444\n",
       "...                 ...      ...         ...        ...              ...\n",
       "3215  Sweetwater County  Wyoming       44527  11.691667     32898.083333\n",
       "3216       Teton County  Wyoming       22923   7.550000     47706.250000\n",
       "3217       Uinta County  Wyoming       20758  14.733333     27086.000000\n",
       "3218    Washakie County  Wyoming        8253  13.066667     26828.333333\n",
       "3219      Weston County  Wyoming        7117  14.200000     31058.500000\n",
       "\n",
       "[3220 rows x 5 columns]"
      ]
     },
     "execution_count": 111,
     "metadata": {},
     "output_type": "execute_result"
    }
   ],
   "source": [
    "county_info"
   ]
  },
  {
   "cell_type": "code",
   "execution_count": 117,
   "metadata": {},
   "outputs": [
    {
     "data": {
      "text/html": [
       "<div>\n",
       "<style scoped>\n",
       "    .dataframe tbody tr th:only-of-type {\n",
       "        vertical-align: middle;\n",
       "    }\n",
       "\n",
       "    .dataframe tbody tr th {\n",
       "        vertical-align: top;\n",
       "    }\n",
       "\n",
       "    .dataframe thead th {\n",
       "        text-align: right;\n",
       "    }\n",
       "</style>\n",
       "<table border=\"1\" class=\"dataframe\">\n",
       "  <thead>\n",
       "    <tr style=\"text-align: right;\">\n",
       "      <th></th>\n",
       "      <th>Name</th>\n",
       "      <th>State</th>\n",
       "      <th>Population</th>\n",
       "      <th>Poverty</th>\n",
       "      <th>PerCapitaIncome</th>\n",
       "    </tr>\n",
       "  </thead>\n",
       "  <tbody>\n",
       "    <tr>\n",
       "      <th>2968</th>\n",
       "      <td>Loudoun County</td>\n",
       "      <td>Virginia</td>\n",
       "      <td>374558</td>\n",
       "      <td>3.824615</td>\n",
       "      <td>49615.769231</td>\n",
       "    </tr>\n",
       "  </tbody>\n",
       "</table>\n",
       "</div>"
      ],
      "text/plain": [
       "                Name     State  Population   Poverty  PerCapitaIncome\n",
       "2968  Loudoun County  Virginia      374558  3.824615     49615.769231"
      ]
     },
     "execution_count": 117,
     "metadata": {},
     "output_type": "execute_result"
    }
   ],
   "source": [
    "county_info[(county_info['Name'] == 'Loudoun County') & (county_info['State'] == 'Virginia')]"
   ]
  },
  {
   "cell_type": "code",
   "execution_count": 118,
   "metadata": {},
   "outputs": [
    {
     "data": {
      "text/html": [
       "<div>\n",
       "<style scoped>\n",
       "    .dataframe tbody tr th:only-of-type {\n",
       "        vertical-align: middle;\n",
       "    }\n",
       "\n",
       "    .dataframe tbody tr th {\n",
       "        vertical-align: top;\n",
       "    }\n",
       "\n",
       "    .dataframe thead th {\n",
       "        text-align: right;\n",
       "    }\n",
       "</style>\n",
       "<table border=\"1\" class=\"dataframe\">\n",
       "  <thead>\n",
       "    <tr style=\"text-align: right;\">\n",
       "      <th></th>\n",
       "      <th>Name</th>\n",
       "      <th>State</th>\n",
       "      <th>Population</th>\n",
       "      <th>Poverty</th>\n",
       "      <th>PerCapitaIncome</th>\n",
       "    </tr>\n",
       "  </thead>\n",
       "  <tbody>\n",
       "    <tr>\n",
       "      <th>2241</th>\n",
       "      <td>Washington County</td>\n",
       "      <td>Oregon</td>\n",
       "      <td>572071</td>\n",
       "      <td>10.446154</td>\n",
       "      <td>34970.817308</td>\n",
       "    </tr>\n",
       "  </tbody>\n",
       "</table>\n",
       "</div>"
      ],
      "text/plain": [
       "                   Name   State  Population    Poverty  PerCapitaIncome\n",
       "2241  Washington County  Oregon      572071  10.446154     34970.817308"
      ]
     },
     "execution_count": 118,
     "metadata": {},
     "output_type": "execute_result"
    }
   ],
   "source": [
    "county_info[(county_info['Name'] == 'Washington County') & (county_info['State'] == 'Oregon')]"
   ]
  },
  {
   "cell_type": "code",
   "execution_count": 119,
   "metadata": {},
   "outputs": [
    {
     "data": {
      "text/html": [
       "<div>\n",
       "<style scoped>\n",
       "    .dataframe tbody tr th:only-of-type {\n",
       "        vertical-align: middle;\n",
       "    }\n",
       "\n",
       "    .dataframe tbody tr th {\n",
       "        vertical-align: top;\n",
       "    }\n",
       "\n",
       "    .dataframe thead th {\n",
       "        text-align: right;\n",
       "    }\n",
       "</style>\n",
       "<table border=\"1\" class=\"dataframe\">\n",
       "  <thead>\n",
       "    <tr style=\"text-align: right;\">\n",
       "      <th></th>\n",
       "      <th>Name</th>\n",
       "      <th>State</th>\n",
       "      <th>Population</th>\n",
       "      <th>Poverty</th>\n",
       "      <th>PerCapitaIncome</th>\n",
       "    </tr>\n",
       "  </thead>\n",
       "  <tbody>\n",
       "    <tr>\n",
       "      <th>1040</th>\n",
       "      <td>Harlan County</td>\n",
       "      <td>Kentucky</td>\n",
       "      <td>27548</td>\n",
       "      <td>33.318182</td>\n",
       "      <td>16010.363636</td>\n",
       "    </tr>\n",
       "  </tbody>\n",
       "</table>\n",
       "</div>"
      ],
      "text/plain": [
       "               Name     State  Population    Poverty  PerCapitaIncome\n",
       "1040  Harlan County  Kentucky       27548  33.318182     16010.363636"
      ]
     },
     "execution_count": 119,
     "metadata": {},
     "output_type": "execute_result"
    }
   ],
   "source": [
    "county_info[(county_info['Name'] == 'Harlan County') & (county_info['State'] == 'Kentucky')]"
   ]
  },
  {
   "cell_type": "code",
   "execution_count": 120,
   "metadata": {},
   "outputs": [
    {
     "data": {
      "text/html": [
       "<div>\n",
       "<style scoped>\n",
       "    .dataframe tbody tr th:only-of-type {\n",
       "        vertical-align: middle;\n",
       "    }\n",
       "\n",
       "    .dataframe tbody tr th {\n",
       "        vertical-align: top;\n",
       "    }\n",
       "\n",
       "    .dataframe thead th {\n",
       "        text-align: right;\n",
       "    }\n",
       "</style>\n",
       "<table border=\"1\" class=\"dataframe\">\n",
       "  <thead>\n",
       "    <tr style=\"text-align: right;\">\n",
       "      <th></th>\n",
       "      <th>Name</th>\n",
       "      <th>State</th>\n",
       "      <th>Population</th>\n",
       "      <th>Poverty</th>\n",
       "      <th>PerCapitaIncome</th>\n",
       "    </tr>\n",
       "  </thead>\n",
       "  <tbody>\n",
       "    <tr>\n",
       "      <th>2230</th>\n",
       "      <td>Malheur County</td>\n",
       "      <td>Oregon</td>\n",
       "      <td>30421</td>\n",
       "      <td>21.3625</td>\n",
       "      <td>15720.625</td>\n",
       "    </tr>\n",
       "  </tbody>\n",
       "</table>\n",
       "</div>"
      ],
      "text/plain": [
       "                Name   State  Population  Poverty  PerCapitaIncome\n",
       "2230  Malheur County  Oregon       30421  21.3625        15720.625"
      ]
     },
     "execution_count": 120,
     "metadata": {},
     "output_type": "execute_result"
    }
   ],
   "source": [
    "county_info[(county_info['Name'] == 'Malheur County') & (county_info['State'] == 'Oregon')]"
   ]
  },
  {
   "cell_type": "code",
   "execution_count": 26,
   "metadata": {},
   "outputs": [
    {
     "data": {
      "text/html": [
       "<div>\n",
       "<style scoped>\n",
       "    .dataframe tbody tr th:only-of-type {\n",
       "        vertical-align: middle;\n",
       "    }\n",
       "\n",
       "    .dataframe tbody tr th {\n",
       "        vertical-align: top;\n",
       "    }\n",
       "\n",
       "    .dataframe thead th {\n",
       "        text-align: right;\n",
       "    }\n",
       "</style>\n",
       "<table border=\"1\" class=\"dataframe\">\n",
       "  <thead>\n",
       "    <tr style=\"text-align: right;\">\n",
       "      <th></th>\n",
       "      <th>Month</th>\n",
       "      <th>Cases</th>\n",
       "      <th>Deaths</th>\n",
       "    </tr>\n",
       "  </thead>\n",
       "  <tbody>\n",
       "    <tr>\n",
       "      <th>0</th>\n",
       "      <td>2020-01-21</td>\n",
       "      <td>1</td>\n",
       "      <td>0.0</td>\n",
       "    </tr>\n",
       "    <tr>\n",
       "      <th>1</th>\n",
       "      <td>2020-01-22</td>\n",
       "      <td>1</td>\n",
       "      <td>0.0</td>\n",
       "    </tr>\n",
       "    <tr>\n",
       "      <th>2</th>\n",
       "      <td>2020-01-23</td>\n",
       "      <td>1</td>\n",
       "      <td>0.0</td>\n",
       "    </tr>\n",
       "    <tr>\n",
       "      <th>3</th>\n",
       "      <td>2020-01-24</td>\n",
       "      <td>1</td>\n",
       "      <td>0.0</td>\n",
       "    </tr>\n",
       "    <tr>\n",
       "      <th>4</th>\n",
       "      <td>2020-01-24</td>\n",
       "      <td>1</td>\n",
       "      <td>0.0</td>\n",
       "    </tr>\n",
       "    <tr>\n",
       "      <th>...</th>\n",
       "      <td>...</td>\n",
       "      <td>...</td>\n",
       "      <td>...</td>\n",
       "    </tr>\n",
       "    <tr>\n",
       "      <th>1050253</th>\n",
       "      <td>2021-02-20</td>\n",
       "      <td>3645</td>\n",
       "      <td>34.0</td>\n",
       "    </tr>\n",
       "    <tr>\n",
       "      <th>1050254</th>\n",
       "      <td>2021-02-20</td>\n",
       "      <td>3318</td>\n",
       "      <td>9.0</td>\n",
       "    </tr>\n",
       "    <tr>\n",
       "      <th>1050255</th>\n",
       "      <td>2021-02-20</td>\n",
       "      <td>2024</td>\n",
       "      <td>12.0</td>\n",
       "    </tr>\n",
       "    <tr>\n",
       "      <th>1050256</th>\n",
       "      <td>2021-02-20</td>\n",
       "      <td>876</td>\n",
       "      <td>26.0</td>\n",
       "    </tr>\n",
       "    <tr>\n",
       "      <th>1050257</th>\n",
       "      <td>2021-02-20</td>\n",
       "      <td>619</td>\n",
       "      <td>5.0</td>\n",
       "    </tr>\n",
       "  </tbody>\n",
       "</table>\n",
       "<p>1050258 rows × 3 columns</p>\n",
       "</div>"
      ],
      "text/plain": [
       "              Month  Cases  Deaths\n",
       "0        2020-01-21      1     0.0\n",
       "1        2020-01-22      1     0.0\n",
       "2        2020-01-23      1     0.0\n",
       "3        2020-01-24      1     0.0\n",
       "4        2020-01-24      1     0.0\n",
       "...             ...    ...     ...\n",
       "1050253  2021-02-20   3645    34.0\n",
       "1050254  2021-02-20   3318     9.0\n",
       "1050255  2021-02-20   2024    12.0\n",
       "1050256  2021-02-20    876    26.0\n",
       "1050257  2021-02-20    619     5.0\n",
       "\n",
       "[1050258 rows x 3 columns]"
      ]
     },
     "execution_count": 26,
     "metadata": {},
     "output_type": "execute_result"
    }
   ],
   "source": [
    "covid_df"
   ]
  }
 ],
 "metadata": {
  "kernelspec": {
   "display_name": ".venv",
   "language": "python",
   "name": "python3"
  },
  "language_info": {
   "codemirror_mode": {
    "name": "ipython",
    "version": 3
   },
   "file_extension": ".py",
   "mimetype": "text/x-python",
   "name": "python",
   "nbconvert_exporter": "python",
   "pygments_lexer": "ipython3",
   "version": "3.10.12"
  }
 },
 "nbformat": 4,
 "nbformat_minor": 2
}
